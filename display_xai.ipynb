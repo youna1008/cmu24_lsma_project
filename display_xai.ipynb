{
 "cells": [
  {
   "cell_type": "code",
   "execution_count": 2,
   "id": "a2d9be13",
   "metadata": {},
   "outputs": [],
   "source": [
    "# load csv dataset \n",
    "import tensorflow"
   ]
  },
  {
   "cell_type": "code",
   "execution_count": 3,
   "id": "ed805d07",
   "metadata": {},
   "outputs": [
    {
     "name": "stderr",
     "output_type": "stream",
     "text": [
      "C:\\Users\\seclab\\anaconda3\\envs\\introdl_kaggle\\lib\\site-packages\\tqdm\\auto.py:21: TqdmWarning: IProgress not found. Please update jupyter and ipywidgets. See https://ipywidgets.readthedocs.io/en/stable/user_install.html\n",
      "  from .autonotebook import tqdm as notebook_tqdm\n"
     ]
    }
   ],
   "source": [
    "import shap"
   ]
  },
  {
   "cell_type": "code",
   "execution_count": 4,
   "id": "4044ac5f",
   "metadata": {},
   "outputs": [],
   "source": [
    "from ast import literal_eval\n",
    "from copy import deepcopy\n",
    "import logging\n",
    "import os\n",
    "import random\n",
    "from typing import List, Dict\n",
    "\n",
    "#mport albumentations as A\n",
    "#from albumentations.pytorch import ToTensorV2\n",
    "\n",
    "#import matplotlib.pyplot as plt\n",
    "import numpy as np\n",
    "import pandas as pd\n",
    "from torch.utils.tensorboard import SummaryWriter\n",
    "import torch\n",
    "from torch import Tensor\n",
    "from torch.optim import AdamW\n",
    "from torch.optim.lr_scheduler import ReduceLROnPlateau\n",
    "from torch.utils.data import DataLoader\n",
    "from tqdm import tqdm\n",
    "import sys \n",
    "import pickle"
   ]
  },
  {
   "cell_type": "code",
   "execution_count": 4,
   "id": "f99d4d4c",
   "metadata": {},
   "outputs": [
    {
     "name": "stdout",
     "output_type": "stream",
     "text": [
      "112079\n"
     ]
    }
   ],
   "source": [
    "import numpy as np\n",
    "file_path = 'collected_feature_train_all.npy'\n",
    "\n",
    "collected_features_train_all = np.load(file_path)\n",
    "\n",
    "print(len(collected_features_train_all))"
   ]
  },
  {
   "cell_type": "code",
   "execution_count": 2,
   "id": "74f64bdd",
   "metadata": {},
   "outputs": [],
   "source": [
    "# NumPy 배열 로드 후 다시 텐서로 변환\n",
    "target_s_ = np.load(\"target_s_array.npy\")\n",
    "target_s_ = torch.tensor(target_s_)\n",
    "collected_features_train_ = np.load(\"collected_features_train_array.npy\")\n",
    "collected_features_train_ = torch.tensor(collected_features_train_)"
   ]
  },
  {
   "cell_type": "code",
   "execution_count": 4,
   "id": "c736f645",
   "metadata": {},
   "outputs": [
    {
     "data": {
      "text/plain": [
       "torch.Size([8, 29, 1024])"
      ]
     },
     "execution_count": 4,
     "metadata": {},
     "output_type": "execute_result"
    }
   ],
   "source": [
    "collected_features_train_.shape"
   ]
  },
  {
   "cell_type": "code",
   "execution_count": 8,
   "id": "5f5b8fd8",
   "metadata": {},
   "outputs": [],
   "source": [
    "import pickle\n",
    "xai_feature = collected_features_train_.tolist()\n",
    "\n",
    "# 리스트를 파일로 저장 (pickle 사용)\n",
    "with open('xai_feature.pkl', 'wb') as f:\n",
    "    pickle.dump(xai_feature, f)\n",
    "    \n",
    "xai_label = target_s_.tolist()\n",
    "\n",
    "# 리스트를 파일로 저장 (pickle 사용)\n",
    "with open('xai_label.pkl', 'wb') as f:\n",
    "    pickle.dump(xai_label, f)"
   ]
  },
  {
   "cell_type": "code",
   "execution_count": 5,
   "id": "4981f0a9",
   "metadata": {},
   "outputs": [],
   "source": [
    "# 저장된 리스트를 파일에서 불러오기\n",
    "with open('xai_feature.pkl', 'rb') as f:\n",
    "    xai_feature = pickle.load(f)\n",
    "\n",
    "# 리스트를 텐서로 변환\n",
    "xai_feature = torch.tensor(xai_feature)\n",
    "\n",
    "with open('xai_label.pkl', 'rb') as f:\n",
    "    xai_label = pickle.load(f)\n",
    "\n",
    "# 리스트를 텐서로 변환\n",
    "xai_label = torch.tensor(xai_label)\n"
   ]
  },
  {
   "cell_type": "code",
   "execution_count": 264,
   "id": "99478918",
   "metadata": {},
   "outputs": [],
   "source": [
    "test_df = pd.read_csv(r\"D:\\CMU\\LSMA\\main_project\\full_dataset\\test-2.csv\")\n",
    "df_test = test_df[test_df['image_id']=='dcaead7c-bba30dd7-76fd5755-24ac78ea-2222e886'].copy()"
   ]
  },
  {
   "cell_type": "code",
   "execution_count": 265,
   "id": "10dff0e4",
   "metadata": {},
   "outputs": [
    {
     "data": {
      "text/html": [
       "<div>\n",
       "<style scoped>\n",
       "    .dataframe tbody tr th:only-of-type {\n",
       "        vertical-align: middle;\n",
       "    }\n",
       "\n",
       "    .dataframe tbody tr th {\n",
       "        vertical-align: top;\n",
       "    }\n",
       "\n",
       "    .dataframe thead th {\n",
       "        text-align: right;\n",
       "    }\n",
       "</style>\n",
       "<table border=\"1\" class=\"dataframe\">\n",
       "  <thead>\n",
       "    <tr style=\"text-align: right;\">\n",
       "      <th></th>\n",
       "      <th>subject_id</th>\n",
       "      <th>study_id</th>\n",
       "      <th>image_id</th>\n",
       "      <th>mimic_image_file_path</th>\n",
       "      <th>bbox_coordinates</th>\n",
       "      <th>bbox_labels</th>\n",
       "      <th>bbox_phrases</th>\n",
       "      <th>bbox_phrase_exists</th>\n",
       "      <th>bbox_is_abnormal</th>\n",
       "      <th>reference_report</th>\n",
       "    </tr>\n",
       "  </thead>\n",
       "  <tbody>\n",
       "    <tr>\n",
       "      <th>0</th>\n",
       "      <td>10000032</td>\n",
       "      <td>50414267</td>\n",
       "      <td>02aa804e-bde0afdd-112c0b34-7bc16630-4e384014</td>\n",
       "      <td>D:/CMU/LSMA/main_project/dataset/mimic_jpg_rgr...</td>\n",
       "      <td>[[327, 231, 512, 615], [477, 300, 512, 615], [...</td>\n",
       "      <td>[1, 2, 19]</td>\n",
       "      <td>['There is no focal consolidation, pleural eff...</td>\n",
       "      <td>[True, False, False, True, False, False, True,...</td>\n",
       "      <td>[False, False, False, False, False, False, Fal...</td>\n",
       "      <td>There is no focal consolidation, pleural effus...</td>\n",
       "    </tr>\n",
       "  </tbody>\n",
       "</table>\n",
       "</div>"
      ],
      "text/plain": [
       "   subject_id  study_id                                      image_id  \\\n",
       "0    10000032  50414267  02aa804e-bde0afdd-112c0b34-7bc16630-4e384014   \n",
       "\n",
       "                               mimic_image_file_path  \\\n",
       "0  D:/CMU/LSMA/main_project/dataset/mimic_jpg_rgr...   \n",
       "\n",
       "                                    bbox_coordinates bbox_labels  \\\n",
       "0  [[327, 231, 512, 615], [477, 300, 512, 615], [...  [1, 2, 19]   \n",
       "\n",
       "                                        bbox_phrases  \\\n",
       "0  ['There is no focal consolidation, pleural eff...   \n",
       "\n",
       "                                  bbox_phrase_exists  \\\n",
       "0  [True, False, False, True, False, False, True,...   \n",
       "\n",
       "                                    bbox_is_abnormal  \\\n",
       "0  [False, False, False, False, False, False, Fal...   \n",
       "\n",
       "                                    reference_report  \n",
       "0  There is no focal consolidation, pleural effus...  "
      ]
     },
     "execution_count": 265,
     "metadata": {},
     "output_type": "execute_result"
    }
   ],
   "source": [
    "test_df.head(1)"
   ]
  },
  {
   "cell_type": "markdown",
   "id": "ed62899b",
   "metadata": {},
   "source": [
    "# binary shap"
   ]
  },
  {
   "cell_type": "code",
   "execution_count": 6,
   "id": "d30df4c4",
   "metadata": {},
   "outputs": [
    {
     "name": "stdout",
     "output_type": "stream",
     "text": [
      "Checkpoint keys: dict_keys(['model', 'optimizer', 'scaler', 'current_epoch', 'overall_steps_taken', 'lowest_val_loss'])\n",
      "Optimizer keys: dict_keys(['state', 'param_groups'])\n"
     ]
    }
   ],
   "source": [
    "import torch\n",
    "\n",
    "# Checkpoint 파일 로드\n",
    "checkpoint_path = r\"D:\\CMU\\baseline_code\\full_model_checkpoint_val_loss_19.793_overall_steps_155252.pt\"  # 실제 파일 경로\n",
    "checkpoint = torch.load(checkpoint_path)\n",
    "\n",
    "# 파일 구조 확인\n",
    "print(\"Checkpoint keys:\", checkpoint.keys())  # 포함된 키 확인\n",
    "\n",
    "# 모델의 state_dict 확인\n",
    "if \"state_dict\" in checkpoint:\n",
    "    print(\"State_dict keys:\", checkpoint[\"state_dict\"].keys())\n",
    "\n",
    "# 기타 정보 확인\n",
    "if \"optimizer\" in checkpoint:\n",
    "    print(\"Optimizer keys:\", checkpoint[\"optimizer\"].keys())\n"
   ]
  },
  {
   "cell_type": "code",
   "execution_count": 7,
   "id": "d175c21a",
   "metadata": {},
   "outputs": [],
   "source": [
    "cp_binary = []\n",
    "\n",
    "for key in checkpoint['model'].keys():\n",
    "    a = 'binary_classifier_region_selection'\n",
    "    if a in key:\n",
    "        cp_binary.append(key)"
   ]
  },
  {
   "cell_type": "code",
   "execution_count": 7,
   "id": "0029b1d7",
   "metadata": {},
   "outputs": [],
   "source": [
    "import torch\n",
    "import torch.nn as nn\n",
    "\n",
    "class BinaryClassifierRegionSelection(nn.Module):\n",
    "    def __init__(self):\n",
    "        super().__init__()\n",
    "\n",
    "        self.classifier = nn.Sequential(\n",
    "            nn.Linear(in_features=1024, out_features=512),\n",
    "            nn.ReLU(),\n",
    "            nn.Linear(in_features=512, out_features=128),\n",
    "            nn.ReLU(),\n",
    "            nn.Linear(in_features=128, out_features=1)\n",
    "        )\n",
    "\n",
    "        # since we have around 2.2x more regions without sentences than regions with sentences (see dataset/dataset_stats.txt generated from compute_stats_dataset.py),\n",
    "        # we set pos_weight=2.2 to put 2.2 more weight on the loss of regions with sentences\n",
    "        pos_weight = torch.tensor([2.2], device=device)\n",
    "        self.loss_fn = nn.BCEWithLogitsLoss(pos_weight=pos_weight)\n",
    "\n",
    "    def forward(\n",
    "        self,\n",
    "        top_region_features,  # tensor of shape [batch_size x 29 x 1024]\n",
    "        class_detected,  # boolean tensor of shape [batch_size x 29], indicates if the object detector has detected the region/class or not\n",
    "        return_loss,  # boolean value that is True if we need the loss (necessary for training and evaluation)\n",
    "        region_has_sentence=None  # boolean tensor of shape [batch_size x 29], indicates if a region has a sentence (True) or not (False) as the ground truth\n",
    "    ):\n",
    "        # logits of shape [batch_size x 29]\n",
    "        logits = self.classifier(top_region_features).squeeze(dim=-1)\n",
    "\n",
    "        # the loss is needed for training and evaluation\n",
    "        if return_loss:\n",
    "            # only compute loss for logits that correspond to a class that was detected\n",
    "            detected_logits = logits[class_detected]\n",
    "            detected_region_has_sentence = region_has_sentence[class_detected]\n",
    "\n",
    "            loss = self.loss_fn(detected_logits, detected_region_has_sentence.type(torch.float32))\n",
    "\n",
    "        if self.training:\n",
    "            return loss\n",
    "        else:\n",
    "            # compute selected_regions for evaluation and inference\n",
    "            # selected_regions are the predictions by the classifier, has shape [batch_size x 29] and is True for regions that should get a sentence\n",
    "            # selected_regions are needed to filter the top_region_features to those that the classifier selected for sentence generation,\n",
    "            # to evaluate the classifier during eval mode (comparing selected_regions to ground-truth region_has_sentence to compute recall, precision etc.)\n",
    "            # and to generally know which regions were selected for generation (which is needed for mapping each selected_region_feature to its corresponding class)\n",
    "            #\n",
    "            # use a threshold of -1 in logit-space (i.e. 0.269 in probability-space)\n",
    "            # if a logit > -1, then it means that class/region has boolean value True and a sentence should be generated for it\n",
    "            selected_regions = logits > -1\n",
    "\n",
    "            # set to False all regions that were not detected by object detector\n",
    "            # (since no detection -> no sentence generation possible)\n",
    "            selected_regions[~class_detected] = False\n",
    "\n",
    "            # selected_region_features are inputted into the decoder during evaluation and inference to generate the sentences\n",
    "            # selected_region_features is of shape [num_regions_selected_in_batch, 1024]\n",
    "            selected_region_features = top_region_features[selected_regions]\n",
    "\n",
    "            # if in eval mode\n",
    "            if return_loss:\n",
    "                return loss, selected_regions, selected_region_features\n",
    "            else:\n",
    "                # if in inference mode\n",
    "                return selected_regions, selected_region_features\n"
   ]
  },
  {
   "cell_type": "code",
   "execution_count": 8,
   "id": "89dd335a",
   "metadata": {},
   "outputs": [],
   "source": [
    "import torch\n",
    "import torch.nn as nn\n",
    "\n",
    "class BinaryClassifierRegionSelection(nn.Module):\n",
    "    def __init__(self):\n",
    "        super().__init__()\n",
    "\n",
    "        self.classifier = nn.Sequential(\n",
    "            nn.Linear(in_features=1024, out_features=512),\n",
    "            nn.ReLU(),\n",
    "            nn.Linear(in_features=512, out_features=128),\n",
    "            nn.ReLU(),\n",
    "            nn.Linear(in_features=128, out_features=1)\n",
    "        )\n",
    "\n",
    "        # since we have around 2.2x more regions without sentences than regions with sentences (see dataset/dataset_stats.txt generated from compute_stats_dataset.py),\n",
    "        # we set pos_weight=2.2 to put 2.2 more weight on the loss of regions with sentences\n",
    "        pos_weight = torch.tensor([2.2], device=device)\n",
    "        self.loss_fn = nn.BCEWithLogitsLoss(pos_weight=pos_weight)\n",
    "\n",
    "    def forward(\n",
    "        self,\n",
    "        top_region_features,  # tensor of shape [batch_size x 29 x 1024]\n",
    "        class_detected,  # boolean tensor of shape [batch_size x 29], indicates if the object detector has detected the region/class or not\n",
    "        return_loss,  # boolean value that is True if we need the loss (necessary for training and evaluation)\n",
    "        region_has_sentence=None  # boolean tensor of shape [batch_size x 29], indicates if a region has a sentence (True) or not (False) as the ground truth\n",
    "    ):\n",
    "        # logits of shape [batch_size x 29]\n",
    "        logits = self.classifier(top_region_features).squeeze(dim=-1)\n",
    "\n",
    "        # the loss is needed for training and evaluation\n",
    "        if return_loss:\n",
    "            # only compute loss for logits that correspond to a class that was detected\n",
    "            detected_logits = logits[class_detected]\n",
    "            detected_region_has_sentence = region_has_sentence[class_detected]\n",
    "\n",
    "            loss = self.loss_fn(detected_logits, detected_region_has_sentence.type(torch.float32))\n",
    "\n",
    "        return logits\n",
    "\n"
   ]
  },
  {
   "cell_type": "code",
   "execution_count": 9,
   "id": "23adbcf0",
   "metadata": {},
   "outputs": [
    {
     "name": "stdout",
     "output_type": "stream",
     "text": [
      "cuda\n"
     ]
    }
   ],
   "source": [
    "device = torch.device(\"cuda\" if torch.cuda.is_available() else \"cpu\")\n",
    "print(device)"
   ]
  },
  {
   "cell_type": "code",
   "execution_count": 10,
   "id": "fd28ba2a",
   "metadata": {},
   "outputs": [],
   "source": [
    "import torch\n",
    "from torch.utils.data import DataLoader, TensorDataset\n",
    "from tqdm import tqdm\n",
    "\n",
    "# 모델 초기화\n",
    "model = BinaryClassifierRegionSelection().to(device)\n",
    "\n",
    "\n",
    "model.load_state_dict({\n",
    "    'classifier.0.weight': checkpoint['model']['binary_classifier_region_selection.classifier.0.weight'],\n",
    "    'classifier.0.bias': checkpoint['model']['binary_classifier_region_selection.classifier.0.bias'],\n",
    "    'classifier.2.weight': checkpoint['model']['binary_classifier_region_selection.classifier.2.weight'],\n",
    "    'classifier.2.bias': checkpoint['model']['binary_classifier_region_selection.classifier.2.bias'],\n",
    "    'classifier.4.weight': checkpoint['model']['binary_classifier_region_selection.classifier.4.weight'],\n",
    "    'classifier.4.bias': checkpoint['model']['binary_classifier_region_selection.classifier.4.bias'],\n",
    "    'loss_fn.pos_weight':checkpoint['model']['binary_classifier_region_selection.loss_fn.pos_weight']\n",
    "})\n",
    "\n",
    "\n",
    "#model.loss_fn.pos_weight = checkpoint['model']['binary_classifier_region_selection.loss_fn.pos_weight']\n",
    "# 학습 루프\n",
    "model.eval()\n",
    "\n",
    "\n",
    "batch_size = 1  # 예시 배치 크기"
   ]
  },
  {
   "cell_type": "code",
   "execution_count": null,
   "id": "cb7b5d28",
   "metadata": {},
   "outputs": [],
   "source": [
    "\n",
    "target_s_ = torch.tensor(target_s, dtype=torch.bool).to(device)\n",
    "\n",
    "# 추론\n",
    "with torch.no_grad():  # 추론 중에는 기울기 계산 비활성화\n",
    "    selected_regions, selected_region_features = model(\n",
    "        top_region_features=collected_features_train_,\n",
    "        class_detected=target_s_,\n",
    "        return_loss=False  # 추론 모드\n",
    "    )\n",
    "\n",
    "print(\"Selected Regions:\", selected_regions)\n",
    "print(\"Selected Region Features:\", selected_region_features)\n"
   ]
  },
  {
   "cell_type": "code",
   "execution_count": 11,
   "id": "90b45be4",
   "metadata": {},
   "outputs": [],
   "source": [
    "class ShapModelWrapper(torch.nn.Module):\n",
    "    def __init__(self, model, target_s_):\n",
    "        super(ShapModelWrapper, self).__init__()\n",
    "        self.model = model\n",
    "        self.target_s_ = target_s_\n",
    "\n",
    "    def forward(self, x):\n",
    "        # x: [batch_size * 29, 1024]\n",
    "        total_regions = x.shape[0]\n",
    "        batch_size = total_regions // 29\n",
    "        x = x.view(batch_size, 29, 1024)\n",
    "\n",
    "        # 'class_detected' 크기 맞추기\n",
    "        class_detected_shap = self.target_s_.to(x.device)\n",
    "        if batch_size != class_detected_shap.shape[0]:\n",
    "            repeats = batch_size // class_detected_shap.shape[0] + 1\n",
    "            class_detected_shap = class_detected_shap.repeat(repeats, 1)[:batch_size, :]\n",
    "\n",
    "        # 모델 실행\n",
    "        logits = self.model(\n",
    "            top_region_features=x,\n",
    "            class_detected=class_detected_shap,\n",
    "            return_loss=False\n",
    "        )\n",
    "\n",
    "        # logits를 [batch_size * 29, 1] 형태로 변환\n",
    "        logits = logits.view(-1, 1)\n",
    "        #print(f\"Logits requires_grad: {logits.requires_grad}\")\n",
    "        return logits\n"
   ]
  },
  {
   "cell_type": "code",
   "execution_count": 12,
   "id": "addd4bc0",
   "metadata": {},
   "outputs": [],
   "source": [
    "import matplotlib.pyplot as plt"
   ]
  },
  {
   "cell_type": "code",
   "execution_count": 13,
   "id": "9efc23ae",
   "metadata": {},
   "outputs": [],
   "source": [
    "import matplotlib"
   ]
  },
  {
   "cell_type": "code",
   "execution_count": 268,
   "id": "17a3ea9f",
   "metadata": {},
   "outputs": [],
   "source": [
    "file_path = r\"D:\\CMU\\baseline_code\\xai_mimic_report\\src\\object_feature_test.pkl\"\n",
    "\n",
    "with open(file_path,'rb') as file:\n",
    "    xai_feature = pickle.load(file)\n"
   ]
  },
  {
   "cell_type": "code",
   "execution_count": 281,
   "id": "957aa83e",
   "metadata": {},
   "outputs": [],
   "source": [
    "xai_feature = np.array(xai_feature)"
   ]
  },
  {
   "cell_type": "code",
   "execution_count": 270,
   "id": "eaa8f793",
   "metadata": {},
   "outputs": [
    {
     "data": {
      "text/html": [
       "<div>\n",
       "<style scoped>\n",
       "    .dataframe tbody tr th:only-of-type {\n",
       "        vertical-align: middle;\n",
       "    }\n",
       "\n",
       "    .dataframe tbody tr th {\n",
       "        vertical-align: top;\n",
       "    }\n",
       "\n",
       "    .dataframe thead th {\n",
       "        text-align: right;\n",
       "    }\n",
       "</style>\n",
       "<table border=\"1\" class=\"dataframe\">\n",
       "  <thead>\n",
       "    <tr style=\"text-align: right;\">\n",
       "      <th></th>\n",
       "      <th>subject_id</th>\n",
       "      <th>study_id</th>\n",
       "      <th>image_id</th>\n",
       "      <th>mimic_image_file_path</th>\n",
       "      <th>bbox_coordinates</th>\n",
       "      <th>bbox_labels</th>\n",
       "      <th>bbox_phrases</th>\n",
       "      <th>bbox_phrase_exists</th>\n",
       "      <th>bbox_is_abnormal</th>\n",
       "      <th>reference_report</th>\n",
       "    </tr>\n",
       "  </thead>\n",
       "  <tbody>\n",
       "    <tr>\n",
       "      <th>89</th>\n",
       "      <td>10019777</td>\n",
       "      <td>56013693</td>\n",
       "      <td>dcaead7c-bba30dd7-76fd5755-24ac78ea-2222e886</td>\n",
       "      <td>D:/CMU/LSMA/main_project/dataset/mimic_jpg_rgr...</td>\n",
       "      <td>[[144, 315, 512, 512], [315, 360, 512, 512], [...</td>\n",
       "      <td>[1, 2, 6, 19]</td>\n",
       "      <td>[\"Lung volumes are low resulting crowding of t...</td>\n",
       "      <td>[True, False, True, True, True, False, True, F...</td>\n",
       "      <td>[True, False, True, True, True, False, False, ...</td>\n",
       "      <td>Lung volumes are low resulting crowding of the...</td>\n",
       "    </tr>\n",
       "  </tbody>\n",
       "</table>\n",
       "</div>"
      ],
      "text/plain": [
       "    subject_id  study_id                                      image_id  \\\n",
       "89    10019777  56013693  dcaead7c-bba30dd7-76fd5755-24ac78ea-2222e886   \n",
       "\n",
       "                                mimic_image_file_path  \\\n",
       "89  D:/CMU/LSMA/main_project/dataset/mimic_jpg_rgr...   \n",
       "\n",
       "                                     bbox_coordinates    bbox_labels  \\\n",
       "89  [[144, 315, 512, 512], [315, 360, 512, 512], [...  [1, 2, 6, 19]   \n",
       "\n",
       "                                         bbox_phrases  \\\n",
       "89  [\"Lung volumes are low resulting crowding of t...   \n",
       "\n",
       "                                   bbox_phrase_exists  \\\n",
       "89  [True, False, True, True, True, False, True, F...   \n",
       "\n",
       "                                     bbox_is_abnormal  \\\n",
       "89  [True, False, True, True, True, False, False, ...   \n",
       "\n",
       "                                     reference_report  \n",
       "89  Lung volumes are low resulting crowding of the...  "
      ]
     },
     "execution_count": 270,
     "metadata": {},
     "output_type": "execute_result"
    }
   ],
   "source": [
    "df_test.head(1)"
   ]
  },
  {
   "cell_type": "code",
   "execution_count": 278,
   "id": "95038d6b",
   "metadata": {},
   "outputs": [],
   "source": [
    "xai_label = ast.literal_eval(df_test['bbox_phrase_exists'].iloc[0])"
   ]
  },
  {
   "cell_type": "code",
   "execution_count": 284,
   "id": "6308d896",
   "metadata": {},
   "outputs": [
    {
     "data": {
      "text/plain": [
       "(1, 29, 1024)"
      ]
     },
     "execution_count": 284,
     "metadata": {},
     "output_type": "execute_result"
    }
   ],
   "source": [
    "X.shape"
   ]
  },
  {
   "cell_type": "code",
   "execution_count": 287,
   "id": "fc74b649",
   "metadata": {},
   "outputs": [],
   "source": [
    "xai_label = torch.tensor(xai_label,dtype=torch.float)"
   ]
  },
  {
   "cell_type": "code",
   "execution_count": 288,
   "id": "fe77b279",
   "metadata": {},
   "outputs": [
    {
     "data": {
      "image/png": "[encoded data removed]",
      "text/plain": [
       "<Figure size 800x650 with 1 Axes>"
      ]
     },
     "metadata": {},
     "output_type": "display_data"
    }
   ],
   "source": [
    "# 입력 데이터 준비\n",
    "X = torch.from_numpy(xai_feature).float()\n",
    "X = X.view(-1, 1024)  # [batch_size * 29, 1024]\n",
    "X = X.to(device)\n",
    "X.requires_grad = True  # 그래디언트 계산을 위해 필요\n",
    "# SHAP Explainer 생성\n",
    "shap_model = ShapModelWrapper(model, xai_label)\n",
    "explainer = shap.DeepExplainer(shap_model, X)\n",
    "\n",
    "# SHAP 값 계산\n",
    "shap_values = explainer.shap_values(X)  # [batch_size * 29, 1024]\n",
    "# SHAP 값을 [batch_size, 29, 1024]로 변환\n",
    "shap_values = np.array(shap_values).reshape(-1, 29, 1024)\n",
    "\n",
    "# 입력 데이터를 [batch_size, 29, 1024]로 복원\n",
    "X_reshaped = X.view(-1, 29, 1024).cpu().detach().numpy()\n",
    "\n",
    "# 각 region의 1024 feature에 대한 SHAP 값 시각화\n",
    "for i in range(shap_values.shape[0]):  # batch_size\n",
    "    for j in range(shap_values.shape[1]):  # 29 regions\n",
    "        # SHAP 값 시각화 (예: bar plot)\n",
    "        shap.plots.bar(shap.Explanation(values=shap_values[i, j], data=X_reshaped[i, j]))\n",
    "        plt.show()\n",
    "        break"
   ]
  },
  {
   "cell_type": "code",
   "execution_count": 18,
   "id": "46deeff8",
   "metadata": {},
   "outputs": [
    {
     "name": "stdout",
     "output_type": "stream",
     "text": [
      ".values =\n",
      "array([ 0.00376471, -0.03806364, -0.0165262 , ..., -0.02254445,\n",
      "        0.01124359,  0.05306467])\n",
      "1024\n"
     ]
    }
   ],
   "source": [
    "print(shap.Explanation(values=shap_values[0, 0]))\n",
    "print(len(shap.Explanation(values=shap_values[0, 0])))"
   ]
  },
  {
   "cell_type": "code",
   "execution_count": 64,
   "id": "bf3279c6",
   "metadata": {},
   "outputs": [
    {
     "name": "stdout",
     "output_type": "stream",
     "text": [
      "[ 0.00376471 -0.03806364 -0.0165262  ... -0.02254445  0.01124359\n",
      "  0.05306467]\n"
     ]
    }
   ],
   "source": [
    "print(shap.Explanation(values=shap_values[0, 0]).values)"
   ]
  },
  {
   "cell_type": "code",
   "execution_count": null,
   "id": "d3faf24c",
   "metadata": {},
   "outputs": [],
   "source": [
    "for i in range(shap_values.shape[0]):  # batch_size\n",
    "    for j in range(shap_values.shape[1]):  # 29 regions\n",
    "        # SHAP 값 시각화 (예: bar plot)\n",
    "        shap.plots.bar(shap.Explanation(values=shap_values[i, j], data=X_reshaped[i, j]))\n",
    "        plt.show()\n",
    "        break"
   ]
  },
  {
   "cell_type": "markdown",
   "id": "60625da9",
   "metadata": {},
   "source": [
    "attention map_"
   ]
  },
  {
   "cell_type": "markdown",
   "id": "5c8e5859",
   "metadata": {},
   "source": [
    "## 데이터 추출"
   ]
  },
  {
   "cell_type": "code",
   "execution_count": 32,
   "id": "4bc0ff98",
   "metadata": {},
   "outputs": [],
   "source": [
    "import pickle\n",
    "\n",
    "# Pickle 파일로 저장\n",
    "with open(\"raw_train_dict.pkl\", \"rb\") as f:\n",
    "    df = pickle.load(f)"
   ]
  },
  {
   "cell_type": "code",
   "execution_count": 33,
   "id": "6a68054c",
   "metadata": {},
   "outputs": [
    {
     "data": {
      "text/plain": [
       "dict_keys(['mimic_image_file_path', 'bbox_coordinates', 'bbox_labels', 'bbox_phrases', 'bbox_phrase_exists', 'bbox_is_abnormal'])"
      ]
     },
     "execution_count": 33,
     "metadata": {},
     "output_type": "execute_result"
    }
   ],
   "source": [
    "df.keys()"
   ]
  },
  {
   "cell_type": "code",
   "execution_count": 34,
   "id": "06e18eb5",
   "metadata": {},
   "outputs": [],
   "source": [
    "df_all = pd.read_csv(r\"D:\\CMU\\LSMA\\main_project\\full_dataset\\train.csv\")"
   ]
  },
  {
   "cell_type": "code",
   "execution_count": 35,
   "id": "f2bb6126",
   "metadata": {},
   "outputs": [],
   "source": [
    "extract_list = ['D:/CMU/LSMA/main_project/dataset/mimic_jpg_rgrg\\\\files/p10/p10000980/s50985099/6ad03ed1-97ee17ee-9cf8b320-f7011003-cd93b42d.jpg',\n",
    " 'D:/CMU/LSMA/main_project/dataset/mimic_jpg_rgrg\\\\files/p10/p10000980/s51967283/943486a3-b3fa9ff7-50f5a769-7a62fcbb-f39b6da4.jpg',\n",
    " 'D:/CMU/LSMA/main_project/dataset/mimic_jpg_rgrg\\\\files/p10/p10000980/s54935705/6ad819bb-bae74eb9-7b663e90-b8deabd7-57f8054a.jpg',\n",
    " 'D:/CMU/LSMA/main_project/dataset/mimic_jpg_rgrg\\\\files/p10/p10000980/s54980801/a75a1fbe-802065ad-717eb7c1-e2ce3552-646276a6.jpg',\n",
    " 'D:/CMU/LSMA/main_project/dataset/mimic_jpg_rgrg\\\\files/p10/p10000980/s57861150/5aa15ba6-55f5e96e-39cea686-7c3b28b2-b8c97a88.jpg',\n",
    " 'D:/CMU/LSMA/main_project/dataset/mimic_jpg_rgrg\\\\files/p10/p10000980/s58206436/54affd39-8bf24209-232bac8a-df6c277a-398ee8a5.jpg',\n",
    " 'D:/CMU/LSMA/main_project/dataset/mimic_jpg_rgrg\\\\files/p10/p10000980/s58636672/c7526473-7b7214ee-a5d58d12-29d1f67f-9f4edf00.jpg',\n",
    " 'D:/CMU/LSMA/main_project/dataset/mimic_jpg_rgrg\\\\files/p10/p10000980/s59988438/925b9496-a956d7b2-05185e52-bb33313b-c06ee522.jpg']"
   ]
  },
  {
   "cell_type": "code",
   "execution_count": 36,
   "id": "8c5f6544",
   "metadata": {},
   "outputs": [],
   "source": [
    "df_filtered = df_all[df_all['mimic_image_file_path'].isin(extract_list)]"
   ]
  },
  {
   "cell_type": "code",
   "execution_count": 40,
   "id": "fd28428b",
   "metadata": {},
   "outputs": [
    {
     "data": {
      "text/html": [
       "<div>\n",
       "<style scoped>\n",
       "    .dataframe tbody tr th:only-of-type {\n",
       "        vertical-align: middle;\n",
       "    }\n",
       "\n",
       "    .dataframe tbody tr th {\n",
       "        vertical-align: top;\n",
       "    }\n",
       "\n",
       "    .dataframe thead th {\n",
       "        text-align: right;\n",
       "    }\n",
       "</style>\n",
       "<table border=\"1\" class=\"dataframe\">\n",
       "  <thead>\n",
       "    <tr style=\"text-align: right;\">\n",
       "      <th></th>\n",
       "      <th>subject_id</th>\n",
       "      <th>study_id</th>\n",
       "      <th>image_id</th>\n",
       "      <th>mimic_image_file_path</th>\n",
       "      <th>bbox_coordinates</th>\n",
       "      <th>bbox_labels</th>\n",
       "      <th>bbox_phrases</th>\n",
       "      <th>bbox_phrase_exists</th>\n",
       "      <th>bbox_is_abnormal</th>\n",
       "    </tr>\n",
       "  </thead>\n",
       "  <tbody>\n",
       "    <tr>\n",
       "      <th>0</th>\n",
       "      <td>10000980</td>\n",
       "      <td>50985099</td>\n",
       "      <td>6ad03ed1-97ee17ee-9cf8b320-f7011003-cd93b42d</td>\n",
       "      <td>D:/CMU/LSMA/main_project/dataset/mimic_jpg_rgr...</td>\n",
       "      <td>[[225, 144, 512, 553], [406, 171, 512, 550], [...</td>\n",
       "      <td>[1, 2, 3, 6, 19]</td>\n",
       "      <td>['Previous mild pulmonary edema and possible c...</td>\n",
       "      <td>[True, False, False, False, True, False, True,...</td>\n",
       "      <td>[True, False, False, False, True, False, False...</td>\n",
       "    </tr>\n",
       "  </tbody>\n",
       "</table>\n",
       "</div>"
      ],
      "text/plain": [
       "   subject_id  study_id                                      image_id  \\\n",
       "0    10000980  50985099  6ad03ed1-97ee17ee-9cf8b320-f7011003-cd93b42d   \n",
       "\n",
       "                               mimic_image_file_path  \\\n",
       "0  D:/CMU/LSMA/main_project/dataset/mimic_jpg_rgr...   \n",
       "\n",
       "                                    bbox_coordinates       bbox_labels  \\\n",
       "0  [[225, 144, 512, 553], [406, 171, 512, 550], [...  [1, 2, 3, 6, 19]   \n",
       "\n",
       "                                        bbox_phrases  \\\n",
       "0  ['Previous mild pulmonary edema and possible c...   \n",
       "\n",
       "                                  bbox_phrase_exists  \\\n",
       "0  [True, False, False, False, True, False, True,...   \n",
       "\n",
       "                                    bbox_is_abnormal  \n",
       "0  [True, False, False, False, True, False, False...  "
      ]
     },
     "execution_count": 40,
     "metadata": {},
     "output_type": "execute_result"
    }
   ],
   "source": [
    "df_filtered.head(1)"
   ]
  },
  {
   "cell_type": "markdown",
   "id": "12de71ca",
   "metadata": {},
   "source": [
    "메타 데이터 추출"
   ]
  },
  {
   "cell_type": "code",
   "execution_count": 41,
   "id": "88abcaed",
   "metadata": {},
   "outputs": [],
   "source": [
    "df_meta = pd.read_csv(\"D:\\CMU\\LSMA\\main_project\\mimic_dataset_p\\metadata_total_sid.csv\")"
   ]
  },
  {
   "cell_type": "code",
   "execution_count": 289,
   "id": "02f30140",
   "metadata": {},
   "outputs": [
    {
     "data": {
      "text/html": [
       "<div>\n",
       "<style scoped>\n",
       "    .dataframe tbody tr th:only-of-type {\n",
       "        vertical-align: middle;\n",
       "    }\n",
       "\n",
       "    .dataframe tbody tr th {\n",
       "        vertical-align: top;\n",
       "    }\n",
       "\n",
       "    .dataframe thead th {\n",
       "        text-align: right;\n",
       "    }\n",
       "</style>\n",
       "<table border=\"1\" class=\"dataframe\">\n",
       "  <thead>\n",
       "    <tr style=\"text-align: right;\">\n",
       "      <th></th>\n",
       "      <th>subject_id</th>\n",
       "      <th>study_id</th>\n",
       "      <th>image_id</th>\n",
       "      <th>mimic_image_file_path</th>\n",
       "      <th>bbox_coordinates</th>\n",
       "      <th>bbox_labels</th>\n",
       "      <th>bbox_phrases</th>\n",
       "      <th>bbox_phrase_exists</th>\n",
       "      <th>bbox_is_abnormal</th>\n",
       "      <th>reference_report</th>\n",
       "    </tr>\n",
       "  </thead>\n",
       "  <tbody>\n",
       "    <tr>\n",
       "      <th>89</th>\n",
       "      <td>10019777</td>\n",
       "      <td>56013693</td>\n",
       "      <td>dcaead7c-bba30dd7-76fd5755-24ac78ea-2222e886</td>\n",
       "      <td>D:/CMU/LSMA/main_project/dataset/mimic_jpg_rgr...</td>\n",
       "      <td>[[144, 315, 512, 512], [315, 360, 512, 512], [...</td>\n",
       "      <td>[1, 2, 6, 19]</td>\n",
       "      <td>[\"Lung volumes are low resulting crowding of t...</td>\n",
       "      <td>[True, False, True, True, True, False, True, F...</td>\n",
       "      <td>[True, False, True, True, True, False, False, ...</td>\n",
       "      <td>Lung volumes are low resulting crowding of the...</td>\n",
       "    </tr>\n",
       "  </tbody>\n",
       "</table>\n",
       "</div>"
      ],
      "text/plain": [
       "    subject_id  study_id                                      image_id  \\\n",
       "89    10019777  56013693  dcaead7c-bba30dd7-76fd5755-24ac78ea-2222e886   \n",
       "\n",
       "                                mimic_image_file_path  \\\n",
       "89  D:/CMU/LSMA/main_project/dataset/mimic_jpg_rgr...   \n",
       "\n",
       "                                     bbox_coordinates    bbox_labels  \\\n",
       "89  [[144, 315, 512, 512], [315, 360, 512, 512], [...  [1, 2, 6, 19]   \n",
       "\n",
       "                                         bbox_phrases  \\\n",
       "89  [\"Lung volumes are low resulting crowding of t...   \n",
       "\n",
       "                                   bbox_phrase_exists  \\\n",
       "89  [True, False, True, True, True, False, True, F...   \n",
       "\n",
       "                                     bbox_is_abnormal  \\\n",
       "89  [True, False, True, True, True, False, False, ...   \n",
       "\n",
       "                                     reference_report  \n",
       "89  Lung volumes are low resulting crowding of the...  "
      ]
     },
     "execution_count": 289,
     "metadata": {},
     "output_type": "execute_result"
    }
   ],
   "source": [
    "df_test.head(1)"
   ]
  },
  {
   "cell_type": "code",
   "execution_count": 290,
   "id": "56ad93b9",
   "metadata": {},
   "outputs": [],
   "source": [
    "image_id = 'dcaead7c-bba30dd7-76fd5755-24ac78ea-2222e886'"
   ]
  },
  {
   "cell_type": "code",
   "execution_count": 291,
   "id": "ec5ff4d3",
   "metadata": {},
   "outputs": [],
   "source": [
    "info_data = df_meta[df_meta['ImageID']==image_id]"
   ]
  },
  {
   "cell_type": "code",
   "execution_count": 292,
   "id": "71c610ff",
   "metadata": {},
   "outputs": [
    {
     "data": {
      "text/html": [
       "<div>\n",
       "<style scoped>\n",
       "    .dataframe tbody tr th:only-of-type {\n",
       "        vertical-align: middle;\n",
       "    }\n",
       "\n",
       "    .dataframe tbody tr th {\n",
       "        vertical-align: top;\n",
       "    }\n",
       "\n",
       "    .dataframe thead th {\n",
       "        text-align: right;\n",
       "    }\n",
       "</style>\n",
       "<table border=\"1\" class=\"dataframe\">\n",
       "  <thead>\n",
       "    <tr style=\"text-align: right;\">\n",
       "      <th></th>\n",
       "      <th>ImageID</th>\n",
       "      <th>PatientID</th>\n",
       "      <th>StudyDate</th>\n",
       "      <th>StudyTime</th>\n",
       "      <th>SeriesDate</th>\n",
       "      <th>AcquisitionDate</th>\n",
       "      <th>ContentDate</th>\n",
       "      <th>SeriesTime</th>\n",
       "      <th>AcquisitionTime</th>\n",
       "      <th>ContentTime</th>\n",
       "      <th>AccessionNumber</th>\n",
       "      <th>Procedure</th>\n",
       "      <th>View</th>\n",
       "      <th>StudyID</th>\n",
       "    </tr>\n",
       "  </thead>\n",
       "  <tbody>\n",
       "  </tbody>\n",
       "</table>\n",
       "</div>"
      ],
      "text/plain": [
       "Empty DataFrame\n",
       "Columns: [ImageID, PatientID, StudyDate, StudyTime, SeriesDate, AcquisitionDate, ContentDate, SeriesTime, AcquisitionTime, ContentTime, AccessionNumber, Procedure, View, StudyID]\n",
       "Index: []"
      ]
     },
     "execution_count": 292,
     "metadata": {},
     "output_type": "execute_result"
    }
   ],
   "source": [
    "info_data.head(1)"
   ]
  },
  {
   "cell_type": "markdown",
   "id": "cb0cae4e",
   "metadata": {},
   "source": [
    "이미지 데이터 추출"
   ]
  },
  {
   "cell_type": "code",
   "execution_count": 45,
   "id": "bd6262dc",
   "metadata": {},
   "outputs": [],
   "source": [
    "#image_id = '6ad03ed1-97ee17ee-9cf8b320-f7011003-cd93b42d.jpg'"
   ]
  },
  {
   "cell_type": "markdown",
   "id": "a6e029b3",
   "metadata": {},
   "source": [
    "이미지 추출 index 찾기"
   ]
  },
  {
   "cell_type": "code",
   "execution_count": 167,
   "id": "67cb63d4",
   "metadata": {
    "scrolled": true
   },
   "outputs": [
    {
     "data": {
      "text/html": [
       "<div>\n",
       "<style scoped>\n",
       "    .dataframe tbody tr th:only-of-type {\n",
       "        vertical-align: middle;\n",
       "    }\n",
       "\n",
       "    .dataframe tbody tr th {\n",
       "        vertical-align: top;\n",
       "    }\n",
       "\n",
       "    .dataframe thead th {\n",
       "        text-align: right;\n",
       "    }\n",
       "</style>\n",
       "<table border=\"1\" class=\"dataframe\">\n",
       "  <thead>\n",
       "    <tr style=\"text-align: right;\">\n",
       "      <th></th>\n",
       "      <th>subject_id</th>\n",
       "      <th>study_id</th>\n",
       "      <th>image_id</th>\n",
       "      <th>mimic_image_file_path</th>\n",
       "      <th>bbox_coordinates</th>\n",
       "      <th>bbox_labels</th>\n",
       "      <th>bbox_phrases</th>\n",
       "      <th>bbox_phrase_exists</th>\n",
       "      <th>bbox_is_abnormal</th>\n",
       "      <th>true_count</th>\n",
       "    </tr>\n",
       "  </thead>\n",
       "  <tbody>\n",
       "    <tr>\n",
       "      <th>0</th>\n",
       "      <td>10000980</td>\n",
       "      <td>50985099</td>\n",
       "      <td>6ad03ed1-97ee17ee-9cf8b320-f7011003-cd93b42d</td>\n",
       "      <td>D:/CMU/LSMA/main_project/dataset/mimic_jpg_rgr...</td>\n",
       "      <td>[[225, 144, 512, 553], [406, 171, 512, 550], [...</td>\n",
       "      <td>[1, 2, 3, 6, 19]</td>\n",
       "      <td>['Previous mild pulmonary edema and possible c...</td>\n",
       "      <td>[True, False, False, False, True, False, True,...</td>\n",
       "      <td>[True, False, False, False, True, False, False...</td>\n",
       "      <td>8</td>\n",
       "    </tr>\n",
       "  </tbody>\n",
       "</table>\n",
       "</div>"
      ],
      "text/plain": [
       "   subject_id  study_id                                      image_id  \\\n",
       "0    10000980  50985099  6ad03ed1-97ee17ee-9cf8b320-f7011003-cd93b42d   \n",
       "\n",
       "                               mimic_image_file_path  \\\n",
       "0  D:/CMU/LSMA/main_project/dataset/mimic_jpg_rgr...   \n",
       "\n",
       "                                    bbox_coordinates       bbox_labels  \\\n",
       "0  [[225, 144, 512, 553], [406, 171, 512, 550], [...  [1, 2, 3, 6, 19]   \n",
       "\n",
       "                                        bbox_phrases  \\\n",
       "0  ['Previous mild pulmonary edema and possible c...   \n",
       "\n",
       "                                  bbox_phrase_exists  \\\n",
       "0  [True, False, False, False, True, False, True,...   \n",
       "\n",
       "                                    bbox_is_abnormal  true_count  \n",
       "0  [True, False, False, False, True, False, False...           8  "
      ]
     },
     "execution_count": 167,
     "metadata": {},
     "output_type": "execute_result"
    }
   ],
   "source": [
    "df_filtered.head(1)"
   ]
  },
  {
   "cell_type": "code",
   "execution_count": 198,
   "id": "4598341b",
   "metadata": {},
   "outputs": [
    {
     "data": {
      "text/plain": [
       "'[True, False, False, False, True, False, False, False, False, False, False, False, False, False, False, False, False, False, False, False, False, True, False, False, True, False, False, False, False]'"
      ]
     },
     "execution_count": 198,
     "metadata": {},
     "output_type": "execute_result"
    }
   ],
   "source": [
    "df_filtered['bbox_is_abnormal'].iloc[0]"
   ]
  },
  {
   "cell_type": "code",
   "execution_count": 201,
   "id": "79b9234e",
   "metadata": {},
   "outputs": [
    {
     "data": {
      "text/plain": [
       "'[True, False, False, False, True, False, True, False, True, False, False, False, True, False, True, False, False, False, False, False, False, True, False, False, True, False, False, False, False]'"
      ]
     },
     "execution_count": 201,
     "metadata": {},
     "output_type": "execute_result"
    }
   ],
   "source": [
    "df_filtered['bbox_phrase_exists'].iloc[0]"
   ]
  },
  {
   "cell_type": "code",
   "execution_count": 212,
   "id": "db7d6edd",
   "metadata": {},
   "outputs": [
    {
     "name": "stdout",
     "output_type": "stream",
     "text": [
      "True indices: [0, 4, 6, 8, 12, 14, 21, 24]\n",
      "Matching indices with -1 for non-matching: [-1, -1, 6, -1, -1, -1, -1, -1]\n"
     ]
    }
   ],
   "source": [
    "matching_indices = []\n",
    "\n",
    "for _, row in df_filtered.iterrows():\n",
    "    # 'bbox_phrase_exists' 값을 리스트로 변환\n",
    "    if isinstance(row['bbox_phrase_exists'], str):\n",
    "        bbox_phrase_exists = ast.literal_eval(row['bbox_phrase_exists'])\n",
    "    else:\n",
    "        bbox_phrase_exists = row['bbox_phrase_exists']\n",
    "    \n",
    "    # 'bbox_labels' 값을 리스트로 변환\n",
    "    if isinstance(row['bbox_labels'], str):\n",
    "        bbox_labels = ast.literal_eval(row['bbox_labels'])\n",
    "    else:\n",
    "        bbox_labels = row['bbox_labels']\n",
    "    \n",
    "    # bbox_phrase_exists에서 True인 인덱스 추출\n",
    "    true_indices = [i for i, value in enumerate(bbox_phrase_exists) if value]\n",
    "    \n",
    "    # true_indices와 bbox_labels의 교집합 찾기\n",
    "    matching_indices = [index if index in bbox_labels else -1 for index in true_indices]\n",
    "    \n",
    "    # 결과 출력\n",
    "    print(\"True indices:\", true_indices)\n",
    "    print(\"Matching indices with -1 for non-matching:\", matching_indices)\n",
    "    break  # 첫 번째 행만 처리\n"
   ]
  },
  {
   "cell_type": "code",
   "execution_count": 293,
   "id": "c9feef9c",
   "metadata": {},
   "outputs": [
    {
     "name": "stdout",
     "output_type": "stream",
     "text": [
      "True indices: [0, 2, 3, 4, 6, 8, 12, 14, 24]\n",
      "Matching indices with -1 for non-matching: [-1, 2, -1, -1, 6, -1, -1, -1, -1]\n"
     ]
    }
   ],
   "source": [
    "matching_indices = []\n",
    "\n",
    "for _, row in df_test.iterrows():\n",
    "    # 'bbox_phrase_exists' 값을 리스트로 변환\n",
    "    if isinstance(row['bbox_phrase_exists'], str):\n",
    "        bbox_phrase_exists = ast.literal_eval(row['bbox_phrase_exists'])\n",
    "    else:\n",
    "        bbox_phrase_exists = row['bbox_phrase_exists']\n",
    "    \n",
    "    # 'bbox_labels' 값을 리스트로 변환\n",
    "    if isinstance(row['bbox_labels'], str):\n",
    "        bbox_labels = ast.literal_eval(row['bbox_labels'])\n",
    "    else:\n",
    "        bbox_labels = row['bbox_labels']\n",
    "    \n",
    "    # bbox_phrase_exists에서 True인 인덱스 추출\n",
    "    true_indices = [i for i, value in enumerate(bbox_phrase_exists) if value]\n",
    "    \n",
    "    # true_indices와 bbox_labels의 교집합 찾기\n",
    "    matching_indices = [index if index in bbox_labels else -1 for index in true_indices]\n",
    "    \n",
    "    # 결과 출력\n",
    "    print(\"True indices:\", true_indices)\n",
    "    print(\"Matching indices with -1 for non-matching:\", matching_indices)\n",
    "    break  # 첫 번째 행만 처리\n"
   ]
  },
  {
   "cell_type": "code",
   "execution_count": 208,
   "id": "15d975f9",
   "metadata": {},
   "outputs": [
    {
     "data": {
      "text/plain": [
       "'6ad03ed1-97ee17ee-9cf8b320-f7011003-cd93b42d.jpg'"
      ]
     },
     "execution_count": 208,
     "metadata": {},
     "output_type": "execute_result"
    }
   ],
   "source": [
    "image_id"
   ]
  },
  {
   "cell_type": "code",
   "execution_count": 209,
   "id": "e1cc71d7",
   "metadata": {},
   "outputs": [
    {
     "data": {
      "text/html": [
       "<div>\n",
       "<style scoped>\n",
       "    .dataframe tbody tr th:only-of-type {\n",
       "        vertical-align: middle;\n",
       "    }\n",
       "\n",
       "    .dataframe tbody tr th {\n",
       "        vertical-align: top;\n",
       "    }\n",
       "\n",
       "    .dataframe thead th {\n",
       "        text-align: right;\n",
       "    }\n",
       "</style>\n",
       "<table border=\"1\" class=\"dataframe\">\n",
       "  <thead>\n",
       "    <tr style=\"text-align: right;\">\n",
       "      <th></th>\n",
       "      <th>subject_id</th>\n",
       "      <th>study_id</th>\n",
       "      <th>image_id</th>\n",
       "      <th>mimic_image_file_path</th>\n",
       "      <th>bbox_coordinates</th>\n",
       "      <th>bbox_labels</th>\n",
       "      <th>bbox_phrases</th>\n",
       "      <th>bbox_phrase_exists</th>\n",
       "      <th>bbox_is_abnormal</th>\n",
       "      <th>true_count</th>\n",
       "    </tr>\n",
       "  </thead>\n",
       "  <tbody>\n",
       "    <tr>\n",
       "      <th>0</th>\n",
       "      <td>10000980</td>\n",
       "      <td>50985099</td>\n",
       "      <td>6ad03ed1-97ee17ee-9cf8b320-f7011003-cd93b42d</td>\n",
       "      <td>D:/CMU/LSMA/main_project/dataset/mimic_jpg_rgr...</td>\n",
       "      <td>[[225, 144, 512, 553], [406, 171, 512, 550], [...</td>\n",
       "      <td>[1, 2, 3, 6, 19]</td>\n",
       "      <td>['Previous mild pulmonary edema and possible c...</td>\n",
       "      <td>[True, False, False, False, True, False, True,...</td>\n",
       "      <td>[True, False, False, False, True, False, False...</td>\n",
       "      <td>8</td>\n",
       "    </tr>\n",
       "  </tbody>\n",
       "</table>\n",
       "</div>"
      ],
      "text/plain": [
       "   subject_id  study_id                                      image_id  \\\n",
       "0    10000980  50985099  6ad03ed1-97ee17ee-9cf8b320-f7011003-cd93b42d   \n",
       "\n",
       "                               mimic_image_file_path  \\\n",
       "0  D:/CMU/LSMA/main_project/dataset/mimic_jpg_rgr...   \n",
       "\n",
       "                                    bbox_coordinates       bbox_labels  \\\n",
       "0  [[225, 144, 512, 553], [406, 171, 512, 550], [...  [1, 2, 3, 6, 19]   \n",
       "\n",
       "                                        bbox_phrases  \\\n",
       "0  ['Previous mild pulmonary edema and possible c...   \n",
       "\n",
       "                                  bbox_phrase_exists  \\\n",
       "0  [True, False, False, False, True, False, True,...   \n",
       "\n",
       "                                    bbox_is_abnormal  true_count  \n",
       "0  [True, False, False, False, True, False, False...           8  "
      ]
     },
     "execution_count": 209,
     "metadata": {},
     "output_type": "execute_result"
    }
   ],
   "source": [
    "df_filtered.head(1)"
   ]
  },
  {
   "cell_type": "code",
   "execution_count": 157,
   "id": "1e8483bf",
   "metadata": {},
   "outputs": [
    {
     "data": {
      "text/plain": [
       "'D:/CMU/LSMA/main_project/dataset/mimic_jpg_rgrg\\\\files/p10/p10000980/s50985099/6ad03ed1-97ee17ee-9cf8b320-f7011003-cd93b42d.jpg'"
      ]
     },
     "execution_count": 157,
     "metadata": {},
     "output_type": "execute_result"
    }
   ],
   "source": [
    "path_"
   ]
  },
  {
   "cell_type": "markdown",
   "id": "d2ed96c6",
   "metadata": {},
   "source": [
    "version1"
   ]
  },
  {
   "cell_type": "code",
   "execution_count": 127,
   "id": "ce99feba",
   "metadata": {},
   "outputs": [],
   "source": [
    "import ast\n",
    "import cv2\n",
    "import numpy as np\n",
    "\n",
    "def scale_coordinates(coordinates, scaling_factor):\n",
    "    \"\"\"\n",
    "    좌표를 스케일링 팩터에 따라 변환\n",
    "    \"\"\"\n",
    "    scaled_coordinates = []\n",
    "    for coord in coordinates:\n",
    "        x1, y1, x2, y2 = coord  # 리스트 또는 튜플에서 언팩\n",
    "        scaled_x1 = int(x1 * scaling_factor)\n",
    "        scaled_y1 = int(y1 * scaling_factor)\n",
    "        scaled_x2 = int(x2 * scaling_factor)\n",
    "        scaled_y2 = int(y2 * scaling_factor)\n",
    "        scaled_coordinates.append((scaled_x1, scaled_y1, scaled_x2, scaled_y2))\n",
    "    return scaled_coordinates\n",
    "\n",
    "# 이미지 로드\n",
    "path_ = extract_list[0]\n",
    "image = cv2.imread(path_)\n",
    "\n",
    "if image is not None:\n",
    "    original_size = (512, 615)#(2544, 3056)  # (높이, 너비)\n",
    "    original_width, original_height = original_size\n",
    "    max_size = 512  # 목표 최대 크기\n",
    "\n",
    "    # 스케일링 팩터 계산\n",
    "    scaling_factor = min(max_size / original_width, max_size / original_height)\n",
    "\n",
    "    # 새 크기 계산\n",
    "    new_width = int(original_width * scaling_factor)\n",
    "    new_height = int(original_height * scaling_factor)\n",
    "\n",
    "    # 좌표 리스트 가져오기\n",
    "    coordinates = df_filtered[df_filtered['mimic_image_file_path'] == path_]['bbox_coordinates'].values[0]\n",
    "\n",
    "    # 문자열로 저장된 좌표를 리스트로 변환\n",
    "    if isinstance(coordinates, str):\n",
    "        coordinates = ast.literal_eval(coordinates)  # 문자열을 리스트로 안전하게 변환\n",
    "\n",
    "    # 좌표 변환\n",
    "    scaled_coordinates = scale_coordinates(coordinates, scaling_factor)\n",
    "\n",
    "    # 이미지 리사이즈 (비율 유지)\n",
    "    resized_image = cv2.resize(image, (new_width, new_height), interpolation=cv2.INTER_AREA)\n",
    "\n",
    "    # 각 좌표에 대해 별도 이미지 생성\n",
    "    for i, coord in enumerate(scaled_coordinates):\n",
    "        # 이미지 복사\n",
    "        image_copy = resized_image.copy()\n",
    "        \n",
    "        # 각 좌표에 대해 네모 그리기\n",
    "        x1, y1, x2, y2 = coord\n",
    "        cv2.rectangle(image_copy, (x1, y1), (x2, y2), (0, 255, 0), 2)\n",
    "\n",
    "        # 수정된 이미지 저장\n",
    "        cv2.imwrite(f'{image_id}/im_{image_id}_box_{i}.jpg', image_copy)\n",
    "else:\n",
    "    print(\"Failed to load image. Please check the image path.\")\n"
   ]
  },
  {
   "cell_type": "code",
   "execution_count": 294,
   "id": "b229f3d8",
   "metadata": {},
   "outputs": [],
   "source": [
    "image_path_list = []"
   ]
  },
  {
   "cell_type": "code",
   "execution_count": 295,
   "id": "91358542",
   "metadata": {},
   "outputs": [
    {
     "data": {
      "text/html": [
       "<div>\n",
       "<style scoped>\n",
       "    .dataframe tbody tr th:only-of-type {\n",
       "        vertical-align: middle;\n",
       "    }\n",
       "\n",
       "    .dataframe tbody tr th {\n",
       "        vertical-align: top;\n",
       "    }\n",
       "\n",
       "    .dataframe thead th {\n",
       "        text-align: right;\n",
       "    }\n",
       "</style>\n",
       "<table border=\"1\" class=\"dataframe\">\n",
       "  <thead>\n",
       "    <tr style=\"text-align: right;\">\n",
       "      <th></th>\n",
       "      <th>subject_id</th>\n",
       "      <th>study_id</th>\n",
       "      <th>image_id</th>\n",
       "      <th>mimic_image_file_path</th>\n",
       "      <th>bbox_coordinates</th>\n",
       "      <th>bbox_labels</th>\n",
       "      <th>bbox_phrases</th>\n",
       "      <th>bbox_phrase_exists</th>\n",
       "      <th>bbox_is_abnormal</th>\n",
       "      <th>reference_report</th>\n",
       "    </tr>\n",
       "  </thead>\n",
       "  <tbody>\n",
       "    <tr>\n",
       "      <th>89</th>\n",
       "      <td>10019777</td>\n",
       "      <td>56013693</td>\n",
       "      <td>dcaead7c-bba30dd7-76fd5755-24ac78ea-2222e886</td>\n",
       "      <td>D:/CMU/LSMA/main_project/dataset/mimic_jpg_rgr...</td>\n",
       "      <td>[[144, 315, 512, 512], [315, 360, 512, 512], [...</td>\n",
       "      <td>[1, 2, 6, 19]</td>\n",
       "      <td>[\"Lung volumes are low resulting crowding of t...</td>\n",
       "      <td>[True, False, True, True, True, False, True, F...</td>\n",
       "      <td>[True, False, True, True, True, False, False, ...</td>\n",
       "      <td>Lung volumes are low resulting crowding of the...</td>\n",
       "    </tr>\n",
       "  </tbody>\n",
       "</table>\n",
       "</div>"
      ],
      "text/plain": [
       "    subject_id  study_id                                      image_id  \\\n",
       "89    10019777  56013693  dcaead7c-bba30dd7-76fd5755-24ac78ea-2222e886   \n",
       "\n",
       "                                mimic_image_file_path  \\\n",
       "89  D:/CMU/LSMA/main_project/dataset/mimic_jpg_rgr...   \n",
       "\n",
       "                                     bbox_coordinates    bbox_labels  \\\n",
       "89  [[144, 315, 512, 512], [315, 360, 512, 512], [...  [1, 2, 6, 19]   \n",
       "\n",
       "                                         bbox_phrases  \\\n",
       "89  [\"Lung volumes are low resulting crowding of t...   \n",
       "\n",
       "                                   bbox_phrase_exists  \\\n",
       "89  [True, False, True, True, True, False, True, F...   \n",
       "\n",
       "                                     bbox_is_abnormal  \\\n",
       "89  [True, False, True, True, True, False, False, ...   \n",
       "\n",
       "                                     reference_report  \n",
       "89  Lung volumes are low resulting crowding of the...  "
      ]
     },
     "execution_count": 295,
     "metadata": {},
     "output_type": "execute_result"
    }
   ],
   "source": [
    "df_test.head(1)"
   ]
  },
  {
   "cell_type": "code",
   "execution_count": 297,
   "id": "10a58402",
   "metadata": {},
   "outputs": [],
   "source": [
    "df_filtered=df_test.copy()"
   ]
  },
  {
   "cell_type": "code",
   "execution_count": 298,
   "id": "8daee39b",
   "metadata": {},
   "outputs": [
    {
     "name": "stdout",
     "output_type": "stream",
     "text": [
      "[-1, 2, -1, -1, 6, -1, -1, -1, -1]\n",
      "[1, 2, 6, 19]\n",
      "1\n",
      "[1, 2, 6, 19]\n",
      "2\n"
     ]
    }
   ],
   "source": [
    "import ast\n",
    "import cv2\n",
    "import numpy as np\n",
    "\n",
    "def scale_coordinates(coordinates, scaling_factor):\n",
    "    \"\"\"\n",
    "    좌표를 스케일링 팩터에 따라 변환\n",
    "    \"\"\"\n",
    "    scaled_coordinates = []\n",
    "    for coord in coordinates:\n",
    "        x1, y1, x2, y2 = coord  # 리스트 또는 튜플에서 언팩\n",
    "        scaled_x1 = int(x1 * scaling_factor)\n",
    "        scaled_y1 = int(y1 * scaling_factor)\n",
    "        scaled_x2 = int(x2 * scaling_factor)\n",
    "        scaled_y2 = int(y2 * scaling_factor)\n",
    "        scaled_coordinates.append((scaled_x1, scaled_y1, scaled_x2, scaled_y2))\n",
    "    return scaled_coordinates\n",
    "\n",
    "# 이미지 로드\n",
    "path_ = df_test['mimic_image_file_path'].iloc[0]\n",
    "image = cv2.imread(path_)\n",
    "image_path_list=[]\n",
    "if image is not None:\n",
    "    original_size = (512, 615)#(2544, 3056)  # (높이, 너비)\n",
    "    original_width, original_height = original_size\n",
    "    max_size = 512  # 목표 최대 크기\n",
    "\n",
    "    # 스케일링 팩터 계산\n",
    "    scaling_factor = min(max_size / original_width, max_size / original_height)\n",
    "\n",
    "    # 새 크기 계산\n",
    "    new_width = int(original_width * scaling_factor)\n",
    "    new_height = int(original_height * scaling_factor)\n",
    "\n",
    "    # 좌표 리스트 가져오기\n",
    "    coordinates = df_filtered[df_filtered['mimic_image_file_path'] == path_]['bbox_coordinates'].values[0]\n",
    "    label_index = df_filtered[df_filtered['mimic_image_file_path'] == path_]['bbox_labels'].values[0]\n",
    "    # 문자열로 저장된 좌표를 리스트로 변환\n",
    "    if isinstance(coordinates, str):\n",
    "        coordinates = ast.literal_eval(coordinates)  # 문자열을 리스트로 안전하게 변환\n",
    "        label_index = ast.literal_eval(label_index)\n",
    "    # 좌표 변환\n",
    "    scaled_coordinates = scale_coordinates(coordinates, scaling_factor)\n",
    "\n",
    "    # 이미지 리사이즈 (비율 유지)\n",
    "    resized_image = cv2.resize(image, (new_width, new_height), interpolation=cv2.INTER_AREA)\n",
    "\n",
    "    # 각 좌표에 대해 별도 이미지 생성\n",
    "    print(matching_indices)\n",
    "    for idx,num in enumerate(matching_indices):\n",
    "        if num==-1:\n",
    "            image_path_list.append(path_)\n",
    "        else:\n",
    "            \n",
    "            print(label_index)\n",
    "            inner_index = label_index.index(num)\n",
    "            print(inner_index)\n",
    "    #for i, coord in enumerate(scaled_coordinates):\n",
    "        # 이미지 복사\n",
    "            image_copy = resized_image.copy()\n",
    "        \n",
    "        # 각 좌표에 대해 네모 그리기\n",
    "            x1, y1, x2, y2 = scaled_coordinates[inner_index]\n",
    "            cv2.rectangle(image_copy, (x1, y1), (x2, y2), (0, 255, 0), 2)\n",
    "\n",
    "        # 수정된 이미지 저장\n",
    "            cv2.imwrite(f'{image_id}/im_{image_id}_box_{idx}.jpg', image_copy)\n",
    "            image_path_list.append(f'{image_id}/im_{image_id}_box_{idx}.jpg')\n"
   ]
  },
  {
   "cell_type": "code",
   "execution_count": 236,
   "id": "3d945c7f",
   "metadata": {},
   "outputs": [
    {
     "data": {
      "text/plain": [
       "'6ad03ed1-97ee17ee-9cf8b320-f7011003-cd93b42d.jpg'"
      ]
     },
     "execution_count": 236,
     "metadata": {},
     "output_type": "execute_result"
    }
   ],
   "source": [
    "image_id"
   ]
  },
  {
   "cell_type": "code",
   "execution_count": 224,
   "id": "47ec6336",
   "metadata": {},
   "outputs": [
    {
     "data": {
      "text/plain": [
       "[-1, -1, 6, -1, -1, -1, -1, -1]"
      ]
     },
     "execution_count": 224,
     "metadata": {},
     "output_type": "execute_result"
    }
   ],
   "source": [
    "matching_indices"
   ]
  },
  {
   "cell_type": "markdown",
   "id": "45d3bb0f",
   "metadata": {},
   "source": [
    "version2-json"
   ]
  },
  {
   "cell_type": "code",
   "execution_count": 235,
   "id": "63805027",
   "metadata": {},
   "outputs": [
    {
     "data": {
      "text/plain": [
       "'6ad03ed1-97ee17ee-9cf8b320-f7011003-cd93b42d'"
      ]
     },
     "execution_count": 235,
     "metadata": {},
     "output_type": "execute_result"
    }
   ],
   "source": [
    "image_id.split('.')[0]"
   ]
  },
  {
   "cell_type": "code",
   "execution_count": 171,
   "id": "afcca204",
   "metadata": {},
   "outputs": [],
   "source": [
    "json_path = f\"D:/CMU/LSMA/main_project/chest-imagenome-dataset-1.0.0/chest-imagenome-dataset-1.0.0/silver_dataset/scene_graph/{image_id.split('.')[0]}_SceneGraph.json\""
   ]
  },
  {
   "cell_type": "code",
   "execution_count": 173,
   "id": "8fb7c1dd",
   "metadata": {},
   "outputs": [
    {
     "name": "stdout",
     "output_type": "stream",
     "text": [
      "Keys in JSON: ['image_id', 'viewpoint', 'patient_id', 'study_id', 'gender', 'age_decile', 'reason_for_exam', 'StudyOrder', 'StudyDateTime', 'objects', 'attributes', 'relationships']\n"
     ]
    }
   ],
   "source": [
    "import json\n",
    "def load_json(json_path):\n",
    "    try:\n",
    "        with open(json_path, 'r') as f:\n",
    "            data = json.load(f)\n",
    "        return data\n",
    "    except FileNotFoundError:\n",
    "        print(f\"File not found: {json_path}\")\n",
    "        return None\n",
    "    except json.JSONDecodeError as e:\n",
    "        print(f\"Error decoding JSON: {e}\")\n",
    "        return None\n",
    "\n",
    "# JSON 로드\n",
    "json_data = load_json(json_path)\n",
    "\n",
    "if json_data is not None:\n",
    "    # JSON 키 확인\n",
    "    keys = list(json_data.keys())\n",
    "    print(f\"Keys in JSON: {keys}\")\n",
    "else:\n",
    "    print(\"Failed to load JSON.\")\n"
   ]
  },
  {
   "cell_type": "code",
   "execution_count": 175,
   "id": "071f8a24",
   "metadata": {
    "scrolled": true
   },
   "outputs": [
    {
     "data": {
      "text/plain": [
       "36"
      ]
     },
     "execution_count": 175,
     "metadata": {},
     "output_type": "execute_result"
    }
   ],
   "source": [
    "len(json_data['objects'])"
   ]
  },
  {
   "cell_type": "code",
   "execution_count": 179,
   "id": "4361e303",
   "metadata": {
    "scrolled": true
   },
   "outputs": [
    {
     "data": {
      "text/plain": [
       "{'object_id': '6ad03ed1-97ee17ee-9cf8b320-f7011003-cd93b42d_descending aorta',\n",
       " 'x1': 109,\n",
       " 'y1': 58,\n",
       " 'x2': 140,\n",
       " 'y2': 122,\n",
       " 'width': 31,\n",
       " 'height': 64,\n",
       " 'bbox_name': 'descending aorta',\n",
       " 'synsets': ['C0011666'],\n",
       " 'name': 'Descending aorta',\n",
       " 'original_x1': 911,\n",
       " 'original_y1': 523,\n",
       " 'original_x2': 1191,\n",
       " 'original_y2': 1101,\n",
       " 'original_width': 280,\n",
       " 'original_height': 578}"
      ]
     },
     "execution_count": 179,
     "metadata": {},
     "output_type": "execute_result"
    }
   ],
   "source": [
    "json_data['objects'][30]"
   ]
  },
  {
   "cell_type": "markdown",
   "id": "9b179a17",
   "metadata": {},
   "source": [
    "report 추출"
   ]
  },
  {
   "cell_type": "code",
   "execution_count": 128,
   "id": "d65c9ae9",
   "metadata": {},
   "outputs": [
    {
     "data": {
      "text/html": [
       "<div>\n",
       "<style scoped>\n",
       "    .dataframe tbody tr th:only-of-type {\n",
       "        vertical-align: middle;\n",
       "    }\n",
       "\n",
       "    .dataframe tbody tr th {\n",
       "        vertical-align: top;\n",
       "    }\n",
       "\n",
       "    .dataframe thead th {\n",
       "        text-align: right;\n",
       "    }\n",
       "</style>\n",
       "<table border=\"1\" class=\"dataframe\">\n",
       "  <thead>\n",
       "    <tr style=\"text-align: right;\">\n",
       "      <th></th>\n",
       "      <th>subject_id</th>\n",
       "      <th>study_id</th>\n",
       "      <th>image_id</th>\n",
       "      <th>mimic_image_file_path</th>\n",
       "      <th>bbox_coordinates</th>\n",
       "      <th>bbox_labels</th>\n",
       "      <th>bbox_phrases</th>\n",
       "      <th>bbox_phrase_exists</th>\n",
       "      <th>bbox_is_abnormal</th>\n",
       "    </tr>\n",
       "  </thead>\n",
       "  <tbody>\n",
       "    <tr>\n",
       "      <th>0</th>\n",
       "      <td>10000980</td>\n",
       "      <td>50985099</td>\n",
       "      <td>6ad03ed1-97ee17ee-9cf8b320-f7011003-cd93b42d</td>\n",
       "      <td>D:/CMU/LSMA/main_project/dataset/mimic_jpg_rgr...</td>\n",
       "      <td>[[225, 144, 512, 553], [406, 171, 512, 550], [...</td>\n",
       "      <td>[1, 2, 3, 6, 19]</td>\n",
       "      <td>['Previous mild pulmonary edema and possible c...</td>\n",
       "      <td>[True, False, False, False, True, False, True,...</td>\n",
       "      <td>[True, False, False, False, True, False, False...</td>\n",
       "    </tr>\n",
       "  </tbody>\n",
       "</table>\n",
       "</div>"
      ],
      "text/plain": [
       "   subject_id  study_id                                      image_id  \\\n",
       "0    10000980  50985099  6ad03ed1-97ee17ee-9cf8b320-f7011003-cd93b42d   \n",
       "\n",
       "                               mimic_image_file_path  \\\n",
       "0  D:/CMU/LSMA/main_project/dataset/mimic_jpg_rgr...   \n",
       "\n",
       "                                    bbox_coordinates       bbox_labels  \\\n",
       "0  [[225, 144, 512, 553], [406, 171, 512, 550], [...  [1, 2, 3, 6, 19]   \n",
       "\n",
       "                                        bbox_phrases  \\\n",
       "0  ['Previous mild pulmonary edema and possible c...   \n",
       "\n",
       "                                  bbox_phrase_exists  \\\n",
       "0  [True, False, False, False, True, False, True,...   \n",
       "\n",
       "                                    bbox_is_abnormal  \n",
       "0  [True, False, False, False, True, False, False...  "
      ]
     },
     "execution_count": 128,
     "metadata": {},
     "output_type": "execute_result"
    }
   ],
   "source": [
    "df_filtered.head(1)"
   ]
  },
  {
   "cell_type": "code",
   "execution_count": 299,
   "id": "3bde5504",
   "metadata": {},
   "outputs": [
    {
     "name": "stdout",
     "output_type": "stream",
     "text": [
      "Collected Report List: [\"Lung volumes are low resulting crowding of the pulmonary bronchovascular structures. There is persistent subtle airspace opacity in the right mid to lower lung, this may reflect the residua of the patient's known pneumonia. No pleural effusion seen.\", \"There is persistent subtle airspace opacity in the right mid to lower lung, this may reflect the residua of the patient's known pneumonia.\", \"There is persistent subtle airspace opacity in the right mid to lower lung, this may reflect the residua of the patient's known pneumonia.\", 'Lung volumes are low resulting crowding of the pulmonary bronchovascular structures.', 'No pleural effusion seen.', 'Lung volumes are low resulting crowding of the pulmonary bronchovascular structures. The left lung is clear. No pleural effusion seen.', 'Lung volumes are low resulting crowding of the pulmonary bronchovascular structures.', 'No pleural effusion seen.', 'The heart is not enlarged.']\n"
     ]
    }
   ],
   "source": [
    "import ast\n",
    "\n",
    "# 결과를 저장할 리스트\n",
    "report_list = []\n",
    "\n",
    "# DataFrame에서 각 행 처리\n",
    "for index, row in df_filtered.iterrows():\n",
    "    # bbox_phrase_exists와 bbox_phrases 가져오기\n",
    "    exists_list = row['bbox_phrase_exists']  # 존재 여부 리스트\n",
    "    phrases = row['bbox_phrases']           # bbox_phrases 리스트\n",
    "\n",
    "    # phrases가 문자열로 저장된 경우 변환\n",
    "    if isinstance(phrases, str):\n",
    "        phrases = ast.literal_eval(phrases)\n",
    "\n",
    "    # exists_list가 문자열로 저장된 경우 변환\n",
    "    if isinstance(exists_list, str):\n",
    "        exists_list = ast.literal_eval(exists_list)\n",
    "\n",
    "    # True 값이 있는 인덱스를 기준으로 phrases에서 값 추출\n",
    "    selected_phrases = [phrases[i] for i, exists in enumerate(exists_list) if exists]\n",
    "\n",
    "    # 결과 리스트에 추가\n",
    "    report_list.extend(selected_phrases)\n",
    "    break\n",
    "# 결과 확인\n",
    "print(\"Collected Report List:\", report_list)\n"
   ]
  },
  {
   "cell_type": "code",
   "execution_count": 300,
   "id": "c9f969dc",
   "metadata": {},
   "outputs": [
    {
     "data": {
      "text/plain": [
       "'D:/CMU/LSMA/main_project/dataset/mimic_jpg_rgrg\\\\files/p10/p10019777/s56013693/dcaead7c-bba30dd7-76fd5755-24ac78ea-2222e886.jpg'"
      ]
     },
     "execution_count": 300,
     "metadata": {},
     "output_type": "execute_result"
    }
   ],
   "source": [
    "path_"
   ]
  },
  {
   "cell_type": "code",
   "execution_count": 301,
   "id": "9f00115f",
   "metadata": {},
   "outputs": [
    {
     "data": {
      "text/plain": [
       "9"
      ]
     },
     "execution_count": 301,
     "metadata": {},
     "output_type": "execute_result"
    }
   ],
   "source": [
    "len(report_list)"
   ]
  },
  {
   "cell_type": "code",
   "execution_count": 304,
   "id": "aab2f318",
   "metadata": {},
   "outputs": [],
   "source": [
    "g_report_list = ['Right lower lobe pneumonia.','No acute cardiopulmonary process.','There is mild bibasilar atelectasis.','The mediastinal and hilar contours are unremarkable.','There are no acute osseous abnormalities.','There is no pleural effusion or pneumothorax.','','','The cardiomediastinal silhouette is within normal limits.']"
   ]
  },
  {
   "cell_type": "code",
   "execution_count": 305,
   "id": "2af57f9a",
   "metadata": {},
   "outputs": [
    {
     "data": {
      "text/plain": [
       "9"
      ]
     },
     "execution_count": 305,
     "metadata": {},
     "output_type": "execute_result"
    }
   ],
   "source": [
    "len(g_report_list)"
   ]
  },
  {
   "cell_type": "markdown",
   "id": "f970d9b9",
   "metadata": {},
   "source": [
    "heatmap 추출하기"
   ]
  },
  {
   "cell_type": "code",
   "execution_count": 306,
   "id": "a1c219f7",
   "metadata": {},
   "outputs": [
    {
     "name": "stdout",
     "output_type": "stream",
     "text": [
      "True indices: [0, 2, 3, 4, 6, 8, 12, 14, 24]\n"
     ]
    }
   ],
   "source": [
    "import ast\n",
    "\n",
    "# 'bbox_phrase_exists'의 첫 번째 값 가져오기\n",
    "bool_list_str = df_filtered['bbox_phrase_exists'].iloc[0]  # 문자열로 저장된 Boolean 리스트\n",
    "\n",
    "# 문자열을 리스트로 변환\n",
    "bool_list = ast.literal_eval(bool_list_str)\n",
    "\n",
    "# True인 값의 인덱스 추출\n",
    "true_indices = [index for index, value in enumerate(bool_list) if value]\n",
    "\n",
    "print(\"True indices:\", true_indices)\n"
   ]
  },
  {
   "cell_type": "code",
   "execution_count": 307,
   "id": "b9fd39b2",
   "metadata": {},
   "outputs": [
    {
     "data": {
      "text/plain": [
       "9"
      ]
     },
     "execution_count": 307,
     "metadata": {},
     "output_type": "execute_result"
    }
   ],
   "source": [
    "len(true_indices)"
   ]
  },
  {
   "cell_type": "code",
   "execution_count": 308,
   "id": "55500046",
   "metadata": {},
   "outputs": [],
   "source": [
    "shap_list=[]\n",
    "batch_idx = 0\n",
    "for i in true_indices:\n",
    "    value = shap.Explanation(values=shap_values[batch_idx, i]).values\n",
    "    shap_list.append(value)"
   ]
  },
  {
   "cell_type": "code",
   "execution_count": 161,
   "id": "30866623",
   "metadata": {},
   "outputs": [
    {
     "data": {
      "text/plain": [
       "8"
      ]
     },
     "execution_count": 161,
     "metadata": {},
     "output_type": "execute_result"
    }
   ],
   "source": [
    "len(shap_list)"
   ]
  },
  {
   "cell_type": "code",
   "execution_count": null,
   "id": "ab0dc4d4",
   "metadata": {},
   "outputs": [],
   "source": [
    "attn_list = []"
   ]
  },
  {
   "cell_type": "code",
   "execution_count": 309,
   "id": "cd6301c8",
   "metadata": {},
   "outputs": [
    {
     "name": "stdout",
     "output_type": "stream",
     "text": [
      "[[ 0.0135157   0.00594062  0.02221229 ...  0.01707219 -0.01169649\n",
      "  -0.00633296]\n",
      " [ 0.07377819  0.07370023  0.06124042 ...  0.04621258 -0.04180154\n",
      "  -0.01192606]\n",
      " [ 0.06345376  0.05904688  0.0502959  ...  0.03469085 -0.03922639\n",
      "  -0.00129224]\n",
      " ...\n",
      " [ 0.03212516 -0.02036676  0.03368697 ...  0.02506727 -0.0178147\n",
      "   0.00217101]\n",
      " [ 0.00346516 -0.00131598  0.00292954 ...  0.00233859 -0.00386209\n",
      "   0.0020573 ]\n",
      " [ 0.00224976 -0.00054415  0.00630397 ...  0.01140571 -0.00646548\n",
      "   0.00350887]]\n"
     ]
    }
   ],
   "source": [
    "# load attention map\n",
    "# .npy 파일 로드\n",
    "query_importance = np.load('query_importance_test.npy')\n",
    "\n",
    "# 로드된 데이터 확인\n",
    "print(query_importance)"
   ]
  },
  {
   "cell_type": "code",
   "execution_count": 310,
   "id": "1d1810f3",
   "metadata": {},
   "outputs": [
    {
     "data": {
      "text/plain": [
       "(9, 1024)"
      ]
     },
     "execution_count": 310,
     "metadata": {},
     "output_type": "execute_result"
    }
   ],
   "source": [
    "query_importance.shape"
   ]
  },
  {
   "cell_type": "code",
   "execution_count": 164,
   "id": "01e7a9b7",
   "metadata": {},
   "outputs": [
    {
     "data": {
      "text/html": [
       "<div>\n",
       "<style scoped>\n",
       "    .dataframe tbody tr th:only-of-type {\n",
       "        vertical-align: middle;\n",
       "    }\n",
       "\n",
       "    .dataframe tbody tr th {\n",
       "        vertical-align: top;\n",
       "    }\n",
       "\n",
       "    .dataframe thead th {\n",
       "        text-align: right;\n",
       "    }\n",
       "</style>\n",
       "<table border=\"1\" class=\"dataframe\">\n",
       "  <thead>\n",
       "    <tr style=\"text-align: right;\">\n",
       "      <th></th>\n",
       "      <th>subject_id</th>\n",
       "      <th>study_id</th>\n",
       "      <th>image_id</th>\n",
       "      <th>mimic_image_file_path</th>\n",
       "      <th>bbox_coordinates</th>\n",
       "      <th>bbox_labels</th>\n",
       "      <th>bbox_phrases</th>\n",
       "      <th>bbox_phrase_exists</th>\n",
       "      <th>bbox_is_abnormal</th>\n",
       "    </tr>\n",
       "  </thead>\n",
       "  <tbody>\n",
       "    <tr>\n",
       "      <th>0</th>\n",
       "      <td>10000980</td>\n",
       "      <td>50985099</td>\n",
       "      <td>6ad03ed1-97ee17ee-9cf8b320-f7011003-cd93b42d</td>\n",
       "      <td>D:/CMU/LSMA/main_project/dataset/mimic_jpg_rgr...</td>\n",
       "      <td>[[225, 144, 512, 553], [406, 171, 512, 550], [...</td>\n",
       "      <td>[1, 2, 3, 6, 19]</td>\n",
       "      <td>['Previous mild pulmonary edema and possible c...</td>\n",
       "      <td>[True, False, False, False, True, False, True,...</td>\n",
       "      <td>[True, False, False, False, True, False, False...</td>\n",
       "    </tr>\n",
       "  </tbody>\n",
       "</table>\n",
       "</div>"
      ],
      "text/plain": [
       "   subject_id  study_id                                      image_id  \\\n",
       "0    10000980  50985099  6ad03ed1-97ee17ee-9cf8b320-f7011003-cd93b42d   \n",
       "\n",
       "                               mimic_image_file_path  \\\n",
       "0  D:/CMU/LSMA/main_project/dataset/mimic_jpg_rgr...   \n",
       "\n",
       "                                    bbox_coordinates       bbox_labels  \\\n",
       "0  [[225, 144, 512, 553], [406, 171, 512, 550], [...  [1, 2, 3, 6, 19]   \n",
       "\n",
       "                                        bbox_phrases  \\\n",
       "0  ['Previous mild pulmonary edema and possible c...   \n",
       "\n",
       "                                  bbox_phrase_exists  \\\n",
       "0  [True, False, False, False, True, False, True,...   \n",
       "\n",
       "                                    bbox_is_abnormal  \n",
       "0  [True, False, False, False, True, False, False...  "
      ]
     },
     "execution_count": 164,
     "metadata": {},
     "output_type": "execute_result"
    }
   ],
   "source": [
    "df_filtered.head(1)"
   ]
  },
  {
   "cell_type": "code",
   "execution_count": 165,
   "id": "3711c019",
   "metadata": {},
   "outputs": [
    {
     "name": "stdout",
     "output_type": "stream",
     "text": [
      "Total True count: 79\n"
     ]
    },
    {
     "name": "stderr",
     "output_type": "stream",
     "text": [
      "\n",
      "A value is trying to be set on a copy of a slice from a DataFrame.\n",
      "Try using .loc[row_indexer,col_indexer] = value instead\n",
      "\n",
      "See the caveats in the documentation: https://pandas.pydata.org/pandas-docs/stable/user_guide/indexing.html#returning-a-view-versus-a-copy\n"
     ]
    }
   ],
   "source": [
    "import ast\n",
    "\n",
    "# 'bbox_phrase_exists' 값이 문자열로 저장된 경우 안전하게 변환\n",
    "def count_true_in_row(row):\n",
    "    if isinstance(row, str):\n",
    "        # 문자열을 리스트로 변환\n",
    "        row = ast.literal_eval(row)\n",
    "    # 리스트에서 True 값 개수 세기\n",
    "    return sum(row)\n",
    "\n",
    "# 각 행에서 True 값 개수 세기\n",
    "df_filtered['true_count'] = df_filtered['bbox_phrase_exists'].apply(count_true_in_row)\n",
    "\n",
    "# 전체 True 값의 총합 계산\n",
    "total_true_count = df_filtered['true_count'].iloc[:8].sum()\n",
    "\n",
    "print(f\"Total True count: {total_true_count}\")\n"
   ]
  },
  {
   "cell_type": "code",
   "execution_count": 148,
   "id": "77d78a37",
   "metadata": {},
   "outputs": [],
   "source": [
    "attn_list = [ query_importance[i] for i in true_indices ]"
   ]
  },
  {
   "cell_type": "code",
   "execution_count": 311,
   "id": "15dc2125",
   "metadata": {},
   "outputs": [],
   "source": [
    "attn_list = query_importance"
   ]
  },
  {
   "cell_type": "markdown",
   "id": "ca8b014d",
   "metadata": {},
   "source": [
    "bert score"
   ]
  },
  {
   "cell_type": "code",
   "execution_count": 188,
   "id": "6ddb0983",
   "metadata": {},
   "outputs": [
    {
     "name": "stdout",
     "output_type": "stream",
     "text": [
      "Environment variable set successfully!\n"
     ]
    }
   ],
   "source": [
    "import os\n",
    "\n",
    "# 환경 변수 설정\n",
    "os.environ[\"HF_HUB_DISABLE_SYMLINKS_WARNING\"] = \"1\"\n",
    "\n",
    "# Hugging Face 코드 실행\n",
    "print(\"Environment variable set successfully!\")"
   ]
  },
  {
   "cell_type": "code",
   "execution_count": null,
   "id": "e178126f",
   "metadata": {},
   "outputs": [],
   "source": [
    "import evaluate\n",
    "\n",
    "# Initialize BERTScore\n",
    "bert_score = evaluate.load(\"bertscore\")"
   ]
  },
  {
   "cell_type": "code",
   "execution_count": 312,
   "id": "a2686fbc",
   "metadata": {},
   "outputs": [],
   "source": [
    "bert_score_list = []"
   ]
  },
  {
   "cell_type": "code",
   "execution_count": 313,
   "id": "5f2b515d",
   "metadata": {},
   "outputs": [
    {
     "name": "stdout",
     "output_type": "stream",
     "text": [
      "Generated: Right lower lobe pneumonia.\n",
      "Reference: Lung volumes are low resulting crowding of the pulmonary bronchovascular structures. There is persistent subtle airspace opacity in the right mid to lower lung, this may reflect the residua of the patient's known pneumonia. No pleural effusion seen.\n",
      "BERTScore (F1): 0.783\n",
      "--------------------------------------------------\n",
      "Generated: No acute cardiopulmonary process.\n",
      "Reference: There is persistent subtle airspace opacity in the right mid to lower lung, this may reflect the residua of the patient's known pneumonia.\n",
      "BERTScore (F1): 0.747\n",
      "--------------------------------------------------\n",
      "Generated: There is mild bibasilar atelectasis.\n",
      "Reference: There is persistent subtle airspace opacity in the right mid to lower lung, this may reflect the residua of the patient's known pneumonia.\n",
      "BERTScore (F1): 0.783\n",
      "--------------------------------------------------\n",
      "Generated: The mediastinal and hilar contours are unremarkable.\n",
      "Reference: Lung volumes are low resulting crowding of the pulmonary bronchovascular structures.\n",
      "BERTScore (F1): 0.77\n",
      "--------------------------------------------------\n",
      "Generated: There are no acute osseous abnormalities.\n",
      "Reference: No pleural effusion seen.\n",
      "BERTScore (F1): 0.781\n",
      "--------------------------------------------------\n",
      "Generated: There is no pleural effusion or pneumothorax.\n",
      "Reference: Lung volumes are low resulting crowding of the pulmonary bronchovascular structures. The left lung is clear. No pleural effusion seen.\n",
      "BERTScore (F1): 0.816\n",
      "--------------------------------------------------\n",
      "Generated: \n",
      "Reference: Lung volumes are low resulting crowding of the pulmonary bronchovascular structures.\n",
      "BERTScore (F1): 0.0\n",
      "--------------------------------------------------\n",
      "Generated: \n",
      "Reference: No pleural effusion seen.\n",
      "BERTScore (F1): 0.0\n",
      "--------------------------------------------------\n",
      "Generated: The cardiomediastinal silhouette is within normal limits.\n",
      "Reference: The heart is not enlarged.\n",
      "BERTScore (F1): 0.772\n",
      "--------------------------------------------------\n"
     ]
    },
    {
     "name": "stderr",
     "output_type": "stream",
     "text": [
      "Warning: Empty candidate sentence detected; setting raw BERTscores to 0.\n",
      "Warning: Empty candidate sentence detected; setting raw BERTscores to 0.\n"
     ]
    }
   ],
   "source": [
    "# Calculate BERTScore for each sentence pair\n",
    "for gen_sent, ref_sent in zip(g_report_list, report_list):\n",
    "    bert_score_result = bert_score.compute(\n",
    "        predictions=[gen_sent],\n",
    "        references=[ref_sent],\n",
    "        lang=\"en\",\n",
    "        model_type=\"distilbert-base-uncased\",\n",
    "    )\n",
    "    print(f\"Generated: {gen_sent}\")\n",
    "    print(f\"Reference: {ref_sent}\")\n",
    "    score =round(bert_score_result['f1'][0],3)\n",
    "    print(f\"BERTScore (F1): {score}\")\n",
    "    bert_score_list.append(score)\n",
    "    print(\"-\" * 50)"
   ]
  },
  {
   "cell_type": "markdown",
   "id": "07be81c7",
   "metadata": {},
   "source": [
    "# html\n",
    "\n",
    "csv정보\n",
    "사진 이런거 있고 shap있으면서 평가지표도 있으면 좋을 것 같다. . \n",
    "\n"
   ]
  },
  {
   "cell_type": "code",
   "execution_count": 51,
   "id": "fa0d44e6",
   "metadata": {},
   "outputs": [
    {
     "data": {
      "text/html": [
       "<div>\n",
       "<style scoped>\n",
       "    .dataframe tbody tr th:only-of-type {\n",
       "        vertical-align: middle;\n",
       "    }\n",
       "\n",
       "    .dataframe tbody tr th {\n",
       "        vertical-align: top;\n",
       "    }\n",
       "\n",
       "    .dataframe thead th {\n",
       "        text-align: right;\n",
       "    }\n",
       "</style>\n",
       "<table border=\"1\" class=\"dataframe\">\n",
       "  <thead>\n",
       "    <tr style=\"text-align: right;\">\n",
       "      <th></th>\n",
       "      <th>subject_id</th>\n",
       "      <th>study_id</th>\n",
       "      <th>image_id</th>\n",
       "      <th>mimic_image_file_path</th>\n",
       "      <th>bbox_coordinates</th>\n",
       "      <th>bbox_labels</th>\n",
       "      <th>bbox_phrases</th>\n",
       "      <th>bbox_phrase_exists</th>\n",
       "      <th>bbox_is_abnormal</th>\n",
       "    </tr>\n",
       "  </thead>\n",
       "  <tbody>\n",
       "    <tr>\n",
       "      <th>0</th>\n",
       "      <td>10000980</td>\n",
       "      <td>50985099</td>\n",
       "      <td>6ad03ed1-97ee17ee-9cf8b320-f7011003-cd93b42d</td>\n",
       "      <td>D:/CMU/LSMA/main_project/dataset/mimic_jpg_rgr...</td>\n",
       "      <td>[[225, 144, 512, 553], [406, 171, 512, 550], [...</td>\n",
       "      <td>[1, 2, 3, 6, 19]</td>\n",
       "      <td>['Previous mild pulmonary edema and possible c...</td>\n",
       "      <td>[True, False, False, False, True, False, True,...</td>\n",
       "      <td>[True, False, False, False, True, False, False...</td>\n",
       "    </tr>\n",
       "  </tbody>\n",
       "</table>\n",
       "</div>"
      ],
      "text/plain": [
       "   subject_id  study_id                                      image_id  \\\n",
       "0    10000980  50985099  6ad03ed1-97ee17ee-9cf8b320-f7011003-cd93b42d   \n",
       "\n",
       "                               mimic_image_file_path  \\\n",
       "0  D:/CMU/LSMA/main_project/dataset/mimic_jpg_rgr...   \n",
       "\n",
       "                                    bbox_coordinates       bbox_labels  \\\n",
       "0  [[225, 144, 512, 553], [406, 171, 512, 550], [...  [1, 2, 3, 6, 19]   \n",
       "\n",
       "                                        bbox_phrases  \\\n",
       "0  ['Previous mild pulmonary edema and possible c...   \n",
       "\n",
       "                                  bbox_phrase_exists  \\\n",
       "0  [True, False, False, False, True, False, True,...   \n",
       "\n",
       "                                    bbox_is_abnormal  \n",
       "0  [True, False, False, False, True, False, False...  "
      ]
     },
     "execution_count": 51,
     "metadata": {},
     "output_type": "execute_result"
    }
   ],
   "source": [
    "df_filtered.head(1)"
   ]
  },
  {
   "cell_type": "code",
   "execution_count": 320,
   "id": "d14ca35a",
   "metadata": {},
   "outputs": [
    {
     "data": {
      "text/plain": [
       "'[True, False, True, True, True, False, True, False, True, False, False, False, True, False, True, False, False, False, False, False, False, False, False, False, True, False, False, False, False]'"
      ]
     },
     "execution_count": 320,
     "metadata": {},
     "output_type": "execute_result"
    }
   ],
   "source": [
    "df_filtered['bbox_phrase_exists'].iloc[0]"
   ]
  },
  {
   "cell_type": "code",
   "execution_count": 94,
   "id": "4c9feb42",
   "metadata": {
    "scrolled": true
   },
   "outputs": [],
   "source": [
    "text_data = df_filtered.iloc[0]['bbox_phrases']"
   ]
  },
  {
   "cell_type": "code",
   "execution_count": 314,
   "id": "372cf96d",
   "metadata": {},
   "outputs": [
    {
     "name": "stdout",
     "output_type": "stream",
     "text": [
      "Heatmaps saved in folder: ./dcaead7c-bba30dd7-76fd5755-24ac78ea-2222e886\n"
     ]
    }
   ],
   "source": [
    "import os\n",
    "import numpy as np\n",
    "import seaborn as sns\n",
    "import matplotlib.pyplot as plt\n",
    "from sklearn.preprocessing import MinMaxScaler\n",
    "\n",
    "output_folder = f\"./{image_id}\"  # 폴더 이름\n",
    "\n",
    "# 폴더 생성\n",
    "if not os.path.exists(output_folder):\n",
    "    os.makedirs(output_folder)\n",
    "\n",
    "# 정규화 함수\n",
    "def normalize(values):\n",
    "    scaler = MinMaxScaler()\n",
    "    return scaler.fit_transform(values.reshape(-1, 1)).flatten()\n",
    "\n",
    "# 상위 N개의 값만 유지하면서 순서를 유지하는 함수\n",
    "def keep_top_n_in_order(values, n):\n",
    "    # 상위 N개의 값 찾기\n",
    "    threshold = np.partition(values, -n)[-n]  # 상위 N번째 값\n",
    "    mask = np.where(values >= threshold, values, 0)  # 상위 N개 값만 유지\n",
    "    return mask\n",
    "\n",
    "# 히트맵 저장 함수\n",
    "def save_heatmap(values, filename):\n",
    "    plt.figure(figsize=(15, 1))  # 가로로 길게\n",
    "    sns.heatmap([values], cmap=\"Blues\", cbar=True, xticklabels=False, yticklabels=False)\n",
    "    plt.axis(\"off\")  # 축 제거\n",
    "    plt.savefig(filename, bbox_inches=\"tight\", pad_inches=0, format='png')\n",
    "    plt.close()\n",
    "\n",
    "# 상위 N개의 값만 포함된 히트맵 생성 및 저장\n",
    "top_n = 10  # 상위 N개 값\n",
    "\n",
    "for i, shap_values in enumerate(shap_list):\n",
    "    # 각 SHAP 값에서 상위 N개의 값만 유지\n",
    "    bar1_top_n = keep_top_n_in_order(np.abs(shap_values), top_n)\n",
    "    bar2_top_n = keep_top_n_in_order(attn_list[i], top_n)\n",
    "    \n",
    "    # 정규화 적용\n",
    "    bar1_normalized = normalize(bar1_top_n)\n",
    "    bar2_normalized = normalize(bar2_top_n)\n",
    "    \n",
    "    # 히트맵 파일명 생성\n",
    "    heatmap1_path = os.path.join(output_folder, f\"bar1_heatmap_top{top_n}_{i + 1}.png\")\n",
    "    heatmap2_path = os.path.join(output_folder, f\"bar2_heatmap_top{top_n}_{i + 1}.png\")\n",
    "    \n",
    "    # 히트맵 저장\n",
    "    save_heatmap(bar1_normalized, heatmap1_path)\n",
    "    save_heatmap(bar2_normalized, heatmap2_path)\n",
    "\n",
    "print(f\"Heatmaps saved in folder: {output_folder}\")\n"
   ]
  },
  {
   "cell_type": "markdown",
   "id": "25aeedf6",
   "metadata": {},
   "source": [
    "html"
   ]
  },
  {
   "cell_type": "code",
   "execution_count": 315,
   "id": "fde15678",
   "metadata": {},
   "outputs": [
    {
     "name": "stdout",
     "output_type": "stream",
     "text": [
      "Heatmap paths: [{'bar1': './dcaead7c-bba30dd7-76fd5755-24ac78ea-2222e886/bar1_heatmap_top10_1.png', 'bar2': './dcaead7c-bba30dd7-76fd5755-24ac78ea-2222e886/bar2_heatmap_top10_1.png'}, {'bar1': './dcaead7c-bba30dd7-76fd5755-24ac78ea-2222e886/bar1_heatmap_top10_2.png', 'bar2': './dcaead7c-bba30dd7-76fd5755-24ac78ea-2222e886/bar2_heatmap_top10_2.png'}, {'bar1': './dcaead7c-bba30dd7-76fd5755-24ac78ea-2222e886/bar1_heatmap_top10_3.png', 'bar2': './dcaead7c-bba30dd7-76fd5755-24ac78ea-2222e886/bar2_heatmap_top10_3.png'}, {'bar1': './dcaead7c-bba30dd7-76fd5755-24ac78ea-2222e886/bar1_heatmap_top10_4.png', 'bar2': './dcaead7c-bba30dd7-76fd5755-24ac78ea-2222e886/bar2_heatmap_top10_4.png'}, {'bar1': './dcaead7c-bba30dd7-76fd5755-24ac78ea-2222e886/bar1_heatmap_top10_5.png', 'bar2': './dcaead7c-bba30dd7-76fd5755-24ac78ea-2222e886/bar2_heatmap_top10_5.png'}, {'bar1': './dcaead7c-bba30dd7-76fd5755-24ac78ea-2222e886/bar1_heatmap_top10_6.png', 'bar2': './dcaead7c-bba30dd7-76fd5755-24ac78ea-2222e886/bar2_heatmap_top10_6.png'}, {'bar1': './dcaead7c-bba30dd7-76fd5755-24ac78ea-2222e886/bar1_heatmap_top10_7.png', 'bar2': './dcaead7c-bba30dd7-76fd5755-24ac78ea-2222e886/bar2_heatmap_top10_7.png'}, {'bar1': './dcaead7c-bba30dd7-76fd5755-24ac78ea-2222e886/bar1_heatmap_top10_8.png', 'bar2': './dcaead7c-bba30dd7-76fd5755-24ac78ea-2222e886/bar2_heatmap_top10_8.png'}, {'bar1': './dcaead7c-bba30dd7-76fd5755-24ac78ea-2222e886/bar1_heatmap_top10_9.png', 'bar2': './dcaead7c-bba30dd7-76fd5755-24ac78ea-2222e886/bar2_heatmap_top10_9.png'}]\n"
     ]
    }
   ],
   "source": [
    "# 예제 데이터\n",
    "# heatmap_paths 리스트 생성\n",
    "heatmap_paths = [\n",
    "    {\n",
    "        \"bar1\": f\"{output_folder}/bar1_heatmap_top10_{i + 1}.png\",\n",
    "        \"bar2\": f\"{output_folder}/bar2_heatmap_top10_{i + 1}.png\"\n",
    "    }\n",
    "    for i in range(len(shap_list))  # shap_list 길이만큼 반복\n",
    "]\n",
    "\n",
    "# 결과 출력\n",
    "print(\"Heatmap paths:\", heatmap_paths)\n"
   ]
  },
  {
   "cell_type": "code",
   "execution_count": 316,
   "id": "67f5ef9c",
   "metadata": {},
   "outputs": [],
   "source": [
    "import os\n",
    "\n",
    "# 예제 데이터\n",
    "# output_folder는 절대 경로로 설정\n",
    "output_folder = os.path.abspath(output_folder)\n",
    "\n",
    "# heatmap_paths 리스트 생성\n",
    "heatmap_paths = [\n",
    "    {\n",
    "        \"bar1\": os.path.abspath(f\"{output_folder}/bar1_heatmap_top10_{i + 1}.png\"),\n",
    "        \"bar2\": os.path.abspath(f\"{output_folder}/bar2_heatmap_top10_{i + 1}.png\")\n",
    "    }\n",
    "    for i in range(len(shap_list))  # shap_list 길이만큼 반복\n",
    "]\n",
    "\n",
    "# 결과 출력\n",
    "#print(\"Heatmap paths:\", heatmap_paths)\n"
   ]
  },
  {
   "cell_type": "code",
   "execution_count": 242,
   "id": "a80bb617",
   "metadata": {},
   "outputs": [
    {
     "data": {
      "text/plain": [
       "8"
      ]
     },
     "execution_count": 242,
     "metadata": {},
     "output_type": "execute_result"
    }
   ],
   "source": [
    "len(heatmap_paths)"
   ]
  },
  {
   "cell_type": "code",
   "execution_count": 317,
   "id": "91642659",
   "metadata": {},
   "outputs": [
    {
     "name": "stdout",
     "output_type": "stream",
     "text": [
      "HTML 파일 생성 완료: dcaead7c-bba30dd7-76fd5755-24ac78ea-2222e886/output4.html\n"
     ]
    }
   ],
   "source": [
    "\n",
    "# HTML 생성\n",
    "html_content = f\"\"\"\n",
    "<!DOCTYPE html>\n",
    "<html lang=\"en\">\n",
    "<head>\n",
    "    <meta charset=\"UTF-8\">\n",
    "    <meta name=\"viewport\" content=\"width=device-width, initial-scale=1.0\">\n",
    "    <title>HTML Example</title>\n",
    "    <style>\n",
    "        .container {{\n",
    "            display: flex;\n",
    "            flex-direction: column;\n",
    "            align-items: center;\n",
    "        }}\n",
    "        .row {{\n",
    "            display: flex;\n",
    "            align-items: flex-start;\n",
    "            justify-content: center;\n",
    "            margin-bottom: 20px;\n",
    "        }}\n",
    "        .image-text {{\n",
    "            display: flex;\n",
    "            align-items: flex-start;\n",
    "            margin-bottom: 20px;\n",
    "        }}\n",
    "        .image-text img {{\n",
    "            max-width: 150px;  /* 이미지 크기 조정 */\n",
    "            margin-right: 20px;\n",
    "        }}\n",
    "        .dataframe {{\n",
    "            margin-bottom: 40px;\n",
    "        }}\n",
    "        .heatmap {{\n",
    "            text-align: center;\n",
    "            margin-bottom: 20px;\n",
    "        }}\n",
    "        .heatmap img {{\n",
    "            max-width: 100%;\n",
    "            height: auto;\n",
    "        }}\n",
    "    </style>\n",
    "</head>\n",
    "<body>\n",
    "    <div class=\"container\">\n",
    "        <!-- DataFrame -->\n",
    "        <div class=\"dataframe\">\n",
    "            {info_data.to_html(index=False, classes=\"dataframe\")}\n",
    "        </div>\n",
    "\"\"\"\n",
    "\n",
    "# 리포트 리스트 길이만큼 반복 추가\n",
    "for i, (report_text, g_report_text,heatmap) in enumerate(zip(report_list,g_report_list, heatmap_paths)):\n",
    "    image_path_ = image_path_list[i]#f\"{output_folder}/im_{image_id}_box_{i}.jpg\"\n",
    "    html_content += f\"\"\"\n",
    "        <!-- Image and Report Text -->\n",
    "        <div class=\"row\">\n",
    "            <div class=\"image-text\">\n",
    "                <img src=\"{image_path_}\" alt=\"Image\">\n",
    "                <p>Reference report: {report_text}<br><br>Generate report: {g_report_text}<br><br>Bertsocre:{bert_score_list[i]}</p>\n",
    "            </div>\n",
    "        </div>\n",
    "\n",
    "        <!-- Heatmaps -->\n",
    "        <div class=\"heatmap\">\n",
    "            <h3>Region Selection Model</h3>\n",
    "            <img src=\"{heatmap['bar1']}\" alt=\"Key Region Extraction Model\">\n",
    "        </div>\n",
    "        <div class=\"heatmap\">\n",
    "            <h3>Report Generation Model</h3>\n",
    "            <img src=\"{heatmap['bar2']}\" alt=\"Geneartion reportModel\">\n",
    "        </div>\n",
    "    \"\"\"\n",
    "\n",
    "# HTML 마무리\n",
    "html_content += \"\"\"\n",
    "    </div>\n",
    "</body>\n",
    "</html>\n",
    "\"\"\"\n",
    "\n",
    "# 결과 저장\n",
    "output_file = f\"{image_id}/output4.html\"\n",
    "with open(output_file, \"w\") as f:\n",
    "    f.write(html_content)\n",
    "\n",
    "print(f\"HTML 파일 생성 완료: {output_file}\")\n"
   ]
  },
  {
   "cell_type": "code",
   "execution_count": 247,
   "id": "6dfedef7",
   "metadata": {},
   "outputs": [
    {
     "data": {
      "text/plain": [
       "['D:/CMU/LSMA/main_project/dataset/mimic_jpg_rgrg\\\\files/p10/p10000980/s50985099/6ad03ed1-97ee17ee-9cf8b320-f7011003-cd93b42d.jpg',\n",
       " 'D:/CMU/LSMA/main_project/dataset/mimic_jpg_rgrg\\\\files/p10/p10000980/s50985099/6ad03ed1-97ee17ee-9cf8b320-f7011003-cd93b42d.jpg',\n",
       " '6ad03ed1-97ee17ee-9cf8b320-f7011003-cd93b42d.jpg/im_6ad03ed1-97ee17ee-9cf8b320-f7011003-cd93b42d.jpg_box_2.jpg',\n",
       " 'D:/CMU/LSMA/main_project/dataset/mimic_jpg_rgrg\\\\files/p10/p10000980/s50985099/6ad03ed1-97ee17ee-9cf8b320-f7011003-cd93b42d.jpg',\n",
       " 'D:/CMU/LSMA/main_project/dataset/mimic_jpg_rgrg\\\\files/p10/p10000980/s50985099/6ad03ed1-97ee17ee-9cf8b320-f7011003-cd93b42d.jpg',\n",
       " 'D:/CMU/LSMA/main_project/dataset/mimic_jpg_rgrg\\\\files/p10/p10000980/s50985099/6ad03ed1-97ee17ee-9cf8b320-f7011003-cd93b42d.jpg',\n",
       " 'D:/CMU/LSMA/main_project/dataset/mimic_jpg_rgrg\\\\files/p10/p10000980/s50985099/6ad03ed1-97ee17ee-9cf8b320-f7011003-cd93b42d.jpg',\n",
       " 'D:/CMU/LSMA/main_project/dataset/mimic_jpg_rgrg\\\\files/p10/p10000980/s50985099/6ad03ed1-97ee17ee-9cf8b320-f7011003-cd93b42d.jpg']"
      ]
     },
     "execution_count": 247,
     "metadata": {},
     "output_type": "execute_result"
    }
   ],
   "source": [
    "image_path_list"
   ]
  },
  {
   "cell_type": "code",
   "execution_count": 250,
   "id": "c3f7d958",
   "metadata": {},
   "outputs": [
    {
     "data": {
      "text/plain": [
       "['D:/CMU/LSMA/main_project/dataset/mimic_jpg_rgrg\\\\files/p10/p10000980/s50985099/6ad03ed1-97ee17ee-9cf8b320-f7011003-cd93b42d.jpg',\n",
       " 'D:/CMU/LSMA/main_project/dataset/mimic_jpg_rgrg\\\\files/p10/p10000980/s50985099/6ad03ed1-97ee17ee-9cf8b320-f7011003-cd93b42d.jpg',\n",
       " 'D:/CMU/baseline_code/xai_mimic_report/src/6ad03ed1-97ee17ee-9cf8b320-f7011003-cd93b42d.jpg\\\\im_6ad03ed1-97ee17ee-9cf8b320-f7011003-cd93b42d.jpg_box_2.jpg',\n",
       " 'D:/CMU/LSMA/main_project/dataset/mimic_jpg_rgrg\\\\files/p10/p10000980/s50985099/6ad03ed1-97ee17ee-9cf8b320-f7011003-cd93b42d.jpg',\n",
       " 'D:/CMU/LSMA/main_project/dataset/mimic_jpg_rgrg\\\\files/p10/p10000980/s50985099/6ad03ed1-97ee17ee-9cf8b320-f7011003-cd93b42d.jpg',\n",
       " 'D:/CMU/LSMA/main_project/dataset/mimic_jpg_rgrg\\\\files/p10/p10000980/s50985099/6ad03ed1-97ee17ee-9cf8b320-f7011003-cd93b42d.jpg',\n",
       " 'D:/CMU/LSMA/main_project/dataset/mimic_jpg_rgrg\\\\files/p10/p10000980/s50985099/6ad03ed1-97ee17ee-9cf8b320-f7011003-cd93b42d.jpg',\n",
       " 'D:/CMU/LSMA/main_project/dataset/mimic_jpg_rgrg\\\\files/p10/p10000980/s50985099/6ad03ed1-97ee17ee-9cf8b320-f7011003-cd93b42d.jpg']"
      ]
     },
     "execution_count": 250,
     "metadata": {},
     "output_type": "execute_result"
    }
   ],
   "source": [
    "image_path_list"
   ]
  },
  {
   "cell_type": "code",
   "execution_count": 249,
   "id": "51fdfee3",
   "metadata": {},
   "outputs": [],
   "source": [
    "image_path_list[2]=\"D:/CMU/baseline_code/xai_mimic_report/src/6ad03ed1-97ee17ee-9cf8b320-f7011003-cd93b42d.jpg\\im_6ad03ed1-97ee17ee-9cf8b320-f7011003-cd93b42d.jpg_box_2.jpg\""
   ]
  },
  {
   "cell_type": "code",
   "execution_count": null,
   "id": "ab457bcb",
   "metadata": {},
   "outputs": [],
   "source": []
  }
 ],
 "metadata": {
  "kernelspec": {
   "display_name": "Introdl_kaggle",
   "language": "python",
   "name": "introdl_kaggle"
  },
  "language_info": {
   "codemirror_mode": {
    "name": "ipython",
    "version": 3
   },
   "file_extension": ".py",
   "mimetype": "text/x-python",
   "name": "python",
   "nbconvert_exporter": "python",
   "pygments_lexer": "ipython3",
   "version": "3.8.20"
  }
 },
 "nbformat": 4,
 "nbformat_minor": 5
}
